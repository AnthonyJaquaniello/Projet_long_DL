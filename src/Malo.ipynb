{
 "cells": [
  {
   "cell_type": "code",
   "execution_count": 1,
   "metadata": {},
   "outputs": [
    {
     "name": "stderr",
     "output_type": "stream",
     "text": [
      "Using TensorFlow backend.\n"
     ]
    }
   ],
   "source": [
    "import keras\n",
    "import numpy as np\n",
    "import random"
   ]
  },
  {
   "cell_type": "code",
   "execution_count": 10,
   "metadata": {},
   "outputs": [],
   "source": [
    "def read_list_file(filepath, group):\n",
    "    with open(filepath, \"r\") as filin:\n",
    "        listin = {}\n",
    "        for line in filin:\n",
    "            listin[line[:-1]] = group\n",
    "    return listin\n",
    "\n",
    "def split_train_val(all_dic, train_size, test_size):\n",
    "\n",
    "    if train_size + test_size > len(all_dic):\n",
    "        print(\"train_size and test_size are too big, changing to 50/50\")\n",
    "        train_size = len(all_dic) / 2\n",
    "        test_size = train_size\n",
    "\n",
    "    X_train_id = random.sample(list(all_dic), train_size)\n",
    "    X_fullval_id = [item for item in list(all_dic) if item not in X_train_id]\n",
    "    X_val_id = random.sample(X_fullval_id, test_size)\n",
    "\n",
    "    X_train = np.zeros((len(X_train_id), 14, 32, 32, 32))\n",
    "    X_val = np.zeros((len(X_val_id), 14, 32, 32, 32))\n",
    "    Y_train = np.zeros((len(X_train_id), 3))\n",
    "    Y_val = np.zeros((len(X_val_id), 3))\n",
    "\n",
    "    for i in range(len(X_train_id)):\n",
    "        X_train[i,:,:,:,:] = np.load(\n",
    "            \"/media/anthony/POULOP/deepdrug3d_voxel_data/\" + X_train_id[i] + \".npy\"\n",
    "            )\n",
    "        Y_train[i,:] = all_dic[X_train_id[i]]\n",
    "\n",
    "    for i in range(len(X_val_id)):\n",
    "        X_val[i,:,:,:,:] = np.load(\n",
    "            \"/media/anthony/POULOP/deepdrug3d_voxel_data/\" + X_val_id[i] + \".npy\"\n",
    "            )\n",
    "        Y_val[i,:] = all_dic[X_val_id[i]]\n",
    "    \n",
    "    return X_train, Y_train, X_val, Y_val\n",
    "\n",
    "\n",
    "def notdeepdrug3D():\n",
    "    input_layer = keras.Input(shape=(14, 32, 32, 32))\n",
    "    conv_1 = keras.layers.Conv3D(\n",
    "        filters = 32,\n",
    "        kernel_size = 5,\n",
    "        activation = \"relu\", \n",
    "        data_format = \"channels_first\",\n",
    "        padding = \"valid\"\n",
    "        )(input_layer)\n",
    "    dropout_1 = keras.layers.Dropout(rate=0.2)(conv_1)\n",
    "    conv_2 = keras.layers.Conv3D(\n",
    "        filters = 32,\n",
    "        kernel_size = 3,\n",
    "        activation = \"relu\", \n",
    "        data_format=\"channels_first\",\n",
    "        padding=\"valid\"\n",
    "        )(dropout_1)\n",
    "    max_pooling_1 = keras.layers.MaxPooling3D(\n",
    "        pool_size=(2,2,2),\n",
    "        strides=None,\n",
    "        padding=\"valid\",\n",
    "        data_format=\"channels_first\"\n",
    "        )(conv_2)\n",
    "    dropout_2 = keras.layers.Dropout(rate=0.4)(max_pooling_1)\n",
    "    flatten_1 = keras.layers.Flatten()(dropout_2)\n",
    "    dense_1 = keras.layers.Dense(units=100, activation=\"relu\")(flatten_1)\n",
    "    output_layer = keras.layers.Dense(units=3, activation=\"softmax\")(dense_1)\n",
    "    notdeepdrug_model = keras.Model(inputs=input_layer,outputs=output_layer)\n",
    "    notdeepdrug_model.compile(\n",
    "            optimizer=\"adam\", \n",
    "            loss=\"categorical_crossentropy\",\n",
    "            metrics=[\"accuracy\"]\n",
    "            )\n",
    "    return notdeepdrug_model\n",
    "\n",
    "def mk_confu_table(predicted, observed):\n",
    "    nb_class = len(predicted[0])\n",
    "    confu_table = np.zeros((nb_class, nb_class))\n",
    "    print(predicted.shape, observed.shape)\n",
    "    for i in range(len(predicted)):\n",
    "        predmax = -1\n",
    "        for j in range(len(nb_class)):\n",
    "            if predmax < predicted[i,j]:\n",
    "                predmax = predicted[i,j]\n",
    "                predicted_class = j\n",
    "            if observed[i,j] == 1.:\n",
    "                observed_class = j\n",
    "        confu_table[predicted_class, observed_class] += 1                    \n",
    "    return confu_table\n",
    "\n",
    "def compute_model_metrics(predicted, observed):\n",
    "    confu_table = mk_confu_table(predicted, observed)"
   ]
  },
  {
   "cell_type": "code",
   "execution_count": 11,
   "metadata": {},
   "outputs": [],
   "source": [
    "control_file = \"control.list.txt\"\n",
    "heme_file = \"heme.list.txt\"\n",
    "nucleotide_file = \"nucleotide.list.txt\"\n",
    "steroid_file = \"steroid.list.txt\"\n",
    "\n",
    "control_id = read_list_file(control_file,[0, 0, 1])\n",
    "heme_id = read_list_file(heme_file, [0, 1, 0])\n",
    "nucleotide_id = read_list_file(nucleotide_file, [1, 0, 0])\n",
    "steroid_id = read_list_file(steroid_file, 4)\n"
   ]
  },
  {
   "cell_type": "code",
   "execution_count": 12,
   "metadata": {},
   "outputs": [
    {
     "name": "stdout",
     "output_type": "stream",
     "text": [
      "1946 596 1553 69\n"
     ]
    }
   ],
   "source": [
    "print(len(control_id), len(heme_id), len(nucleotide_id), len(steroid_id))\n",
    "\n",
    "all_dic = control_id\n",
    "all_dic.update(heme_id)\n",
    "all_dic.update(nucleotide_id)"
   ]
  },
  {
   "cell_type": "code",
   "execution_count": 13,
   "metadata": {},
   "outputs": [
    {
     "name": "stdout",
     "output_type": "stream",
     "text": [
      "WARNING:tensorflow:From /home/anthony/miniconda3/envs/dev/lib/python3.7/site-packages/keras/backend/tensorflow_backend.py:422: The name tf.global_variables is deprecated. Please use tf.compat.v1.global_variables instead.\n",
      "\n",
      "Train on 95 samples, validate on 5 samples\n",
      "Epoch 1/5\n",
      "95/95 [==============================] - 25s 268ms/step - loss: 18.9455 - accuracy: 0.3368 - val_loss: 1.6220 - val_accuracy: 0.0000e+00\n",
      "Epoch 2/5\n",
      "95/95 [==============================] - 17s 174ms/step - loss: 5.6639 - accuracy: 0.2842 - val_loss: 4.3709 - val_accuracy: 0.0000e+00\n",
      "Epoch 3/5\n",
      "95/95 [==============================] - 16s 173ms/step - loss: 2.2381 - accuracy: 0.3789 - val_loss: 1.3142 - val_accuracy: 0.0000e+00\n",
      "Epoch 4/5\n",
      "95/95 [==============================] - 16s 172ms/step - loss: 1.3256 - accuracy: 0.4000 - val_loss: 0.7189 - val_accuracy: 1.0000\n",
      "Epoch 5/5\n",
      "95/95 [==============================] - 17s 181ms/step - loss: 1.0959 - accuracy: 0.4000 - val_loss: 1.0406 - val_accuracy: 0.0000e+00\n"
     ]
    }
   ],
   "source": [
    "X_train, Y_train, X_val, Y_val = split_train_val(all_dic, 100 , 50)\n",
    "\n",
    "notdeepdrug3D_model  = notdeepdrug3D()\n",
    "model_file = \"../results/malo_1.h5\"\n",
    "best_model = keras.callbacks.ModelCheckpoint(\n",
    "        filepath=model_file, \n",
    "        monitor = \"val_loss\",\n",
    "        verbose = 0, \n",
    "        save_best_only=True\n",
    "        )\n",
    "\n",
    "history = notdeepdrug3D_model.fit(\n",
    "    x=X_train, \n",
    "    y=Y_train, \n",
    "    batch_size=20, \n",
    "    epochs=5, \n",
    "    validation_split=0.05,\n",
    "    shuffle=True)"
   ]
  },
  {
   "cell_type": "code",
   "execution_count": 14,
   "metadata": {},
   "outputs": [],
   "source": [
    "pred_train = notdeepdrug3D_model.predict(X_train)\n",
    "pred_val = notdeepdrug3D_model.predict(X_val)"
   ]
  },
  {
   "cell_type": "code",
   "execution_count": 18,
   "metadata": {},
   "outputs": [
    {
     "name": "stdout",
     "output_type": "stream",
     "text": [
      "50/50 [==============================] - 8s 154ms/step\n",
      "[1.0616469383239746, 0.25999999046325684]\n"
     ]
    }
   ],
   "source": [
    "evaluation = notdeepdrug3D_model.evaluate(X_val, Y_val, batch_size = 20)\n",
    "print(evaluation)"
   ]
  },
  {
   "cell_type": "code",
   "execution_count": 15,
   "metadata": {},
   "outputs": [
    {
     "name": "stdout",
     "output_type": "stream",
     "text": [
      "[0.4193983  0.22628836 0.35431325]\n",
      "[0.4067036  0.25333726 0.3399591 ]\n",
      "[0.4171219  0.23440835 0.34846982]\n",
      "[0.39663458 0.2536271  0.34973836]\n",
      "[0.37563545 0.28099233 0.34337226]\n",
      "[0.4144988  0.23237462 0.3531266 ]\n",
      "[0.3905207  0.25746366 0.35201567]\n",
      "[0.37575665 0.28707793 0.33716542]\n",
      "[0.39162585 0.25593415 0.35243994]\n",
      "[0.3847265  0.26711306 0.34816045]\n",
      "[0.4225136  0.21458733 0.36289907]\n",
      "[0.40243086 0.24455133 0.3530178 ]\n",
      "[0.41877255 0.22987923 0.35134825]\n",
      "[0.41474265 0.23041752 0.35483977]\n",
      "[0.40776804 0.24490711 0.34732482]\n",
      "[0.4067658  0.24517864 0.34805557]\n",
      "[0.37894747 0.2775143  0.34353822]\n",
      "[0.40169403 0.2436159  0.35469002]\n",
      "[0.38826972 0.26364678 0.34808344]\n",
      "[0.41248927 0.2446159  0.34289476]\n",
      "[0.40145978 0.24985053 0.34868973]\n",
      "[0.37684402 0.28202805 0.34112787]\n",
      "[0.40324867 0.24794953 0.34880176]\n",
      "[0.42411482 0.23459241 0.34129268]\n",
      "[0.40363228 0.23997489 0.35639283]\n",
      "[0.41068953 0.22909845 0.36021203]\n",
      "[0.40923545 0.23102903 0.3597355 ]\n",
      "[0.41134444 0.23505534 0.3536003 ]\n",
      "[0.4035956  0.25128573 0.34511864]\n",
      "[0.41008288 0.24217488 0.34774214]\n",
      "[0.4166147  0.23615135 0.34723395]\n",
      "[0.39393076 0.2553342  0.3507351 ]\n",
      "[0.42290592 0.2247332  0.3523608 ]\n",
      "[0.40652597 0.24085802 0.35261604]\n",
      "[0.3918377  0.25699046 0.3511718 ]\n",
      "[0.39626196 0.24883443 0.35490364]\n",
      "[0.4021585 0.250737  0.3471045]\n",
      "[0.39437568 0.2526957  0.35292858]\n",
      "[0.39322513 0.25046638 0.3563085 ]\n",
      "[0.40380633 0.24700236 0.3491913 ]\n",
      "[0.41405627 0.23845398 0.3474897 ]\n",
      "[0.4051827  0.24462542 0.35019192]\n",
      "[0.4024759  0.24415281 0.35337123]\n",
      "[0.42474154 0.22628066 0.3489778 ]\n",
      "[0.38106778 0.27058417 0.34834805]\n",
      "[0.4054432 0.2378638 0.3566931]\n",
      "[0.4221627  0.22216085 0.35567638]\n",
      "[0.39059687 0.25880855 0.35059458]\n",
      "[0.40653685 0.24695586 0.34650734]\n",
      "[0.3787358  0.27592304 0.34534115]\n"
     ]
    }
   ],
   "source": [
    "for p in pred_val:\n",
    "    print(p)"
   ]
  },
  {
   "cell_type": "code",
   "execution_count": null,
   "metadata": {},
   "outputs": [],
   "source": []
  }
 ],
 "metadata": {
  "kernelspec": {
   "display_name": "Python 3",
   "language": "python",
   "name": "python3"
  },
  "language_info": {
   "codemirror_mode": {
    "name": "ipython",
    "version": 3
   },
   "file_extension": ".py",
   "mimetype": "text/x-python",
   "name": "python",
   "nbconvert_exporter": "python",
   "pygments_lexer": "ipython3",
   "version": "3.7.4"
  }
 },
 "nbformat": 4,
 "nbformat_minor": 4
}
