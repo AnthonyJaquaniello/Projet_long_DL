{
 "cells": [
  {
   "cell_type": "markdown",
   "metadata": {},
   "source": [
    "## Classification des poches protéiques en fonction du type de druggabilité, par un CNN"
   ]
  },
  {
   "cell_type": "markdown",
   "metadata": {},
   "source": [
    "### 1) Préparation des données"
   ]
  },
  {
   "cell_type": "code",
   "execution_count": 1,
   "metadata": {},
   "outputs": [
    {
     "name": "stderr",
     "output_type": "stream",
     "text": [
      "Using TensorFlow backend.\n"
     ]
    }
   ],
   "source": [
    "import keras\n",
    "from keras import Input, Model\n",
    "import numpy as np\n",
    "from random import shuffle, sample, randint\n",
    "from sklearn.preprocessing import LabelEncoder\n",
    "from sklearn.model_selection import cross_val_score, KFold\n",
    "from keras.wrappers.scikit_learn import KerasClassifier\n",
    "from keras.callbacks.callbacks import EarlyStopping, Callback, ModelCheckpoint\n",
    "from keras.layers import add, Activation, Conv3D, MaxPooling3D, Dense, Flatten, Dropout\n",
    "from keras.models import Sequential, load_model\n",
    "from os import listdir"
   ]
  },
  {
   "cell_type": "code",
   "execution_count": 2,
   "metadata": {},
   "outputs": [],
   "source": [
    "PATH_DATA = \"/media/anthony/POULOP/deepdrug3d_voxel_data/\""
   ]
  },
  {
   "cell_type": "code",
   "execution_count": 43,
   "metadata": {},
   "outputs": [],
   "source": [
    "def equilibrator_samplor(path, nucleotid, heme, control, steroid, k):\n",
    "    all_pocket = listdir(path)\n",
    "    ech = sample(nucleotid, randint(k-15, k+15)) + sample(heme, randint(k-15, k+15)) + sample(control, randint(k-15, k+15))\n",
    "    shuffle(ech)\n",
    "    return ech\n",
    "\n",
    "def remove_list(chosen_pocket, nucleotid, heme, control, steroid):\n",
    "    for pocket in chosen_pocket:\n",
    "        if pocket in nucleotid:\n",
    "            nucleotid.remove(pocket)\n",
    "        elif pocket in heme:\n",
    "            heme.remove(pocket)\n",
    "        elif pocket in control:\n",
    "            control.remove(pocket)\n",
    "        elif pocket in steroid:\n",
    "            steroid.remove(pocket)\n",
    "\n",
    "def load_x(path, chosen_pocket):\n",
    "    X = np.zeros((len(chosen_pocket),14,32,32,32))\n",
    "    for i in range(0, len(chosen_pocket)):\n",
    "        X[i,:,:,:,:] = np.load(\"{}{}\".format(path, chosen_pocket[i]))\n",
    "        if X[i,:,:,:,:].shape == (1,14,32,32,32):\n",
    "            np.squeeze(X[i,:,:,:,:])\n",
    "    return X\n",
    "\n",
    "def load_y(chosen_pocket, nucleotid, heme, control, steroid):\n",
    "    Y = np.zeros((len(chosen_pocket),3))\n",
    "    for i in range(0, len(chosen_pocket)):\n",
    "        if chosen_pocket[i] in nucleotid:\n",
    "            Y[i,0] = 1\n",
    "        elif chosen_pocket[i] in heme:\n",
    "            Y[i,1] = 1\n",
    "        elif chosen_pocket[i] in control:\n",
    "            Y[i,2] = 1\n",
    "    return Y\n",
    "\n",
    "def one_hot_encoding(y):\n",
    "    classes = LabelEncoder()\n",
    "    integer_encoded = classes.fit_transform(y)\n",
    "    one_hot = keras.utils.to_categorical(integer_encoded, num_classes= 3) \n",
    "    return one_hot\n",
    "\n",
    "def list_generator(file):\n",
    "    with open(file, \"r\") as filin:\n",
    "        liste = [\"{}.npy\".format(line[:-1]) for line in filin]\n",
    "    return liste"
   ]
  },
  {
   "cell_type": "code",
   "execution_count": 197,
   "metadata": {},
   "outputs": [],
   "source": [
    "nucleotid = list_generator(\"nucleotide.list.txt\")\n",
    "heme = list_generator(\"heme.list.txt\")\n",
    "steroid = list_generator(\"steroid.list.txt\")\n",
    "control = list_generator(\"control.list.txt\")"
   ]
  },
  {
   "cell_type": "code",
   "execution_count": 198,
   "metadata": {},
   "outputs": [
    {
     "name": "stdout",
     "output_type": "stream",
     "text": [
      "1553\n",
      "596\n",
      "1946\n",
      "69\n",
      "4164\n",
      "4164\n"
     ]
    }
   ],
   "source": [
    "print(len(nucleotid))\n",
    "print(len(heme))\n",
    "print(len(control))\n",
    "print(len(steroid))\n",
    "print(len(nucleotid)+len(heme)+len(control)+len(steroid))\n",
    "print(len(listdir(PATH_DATA)))"
   ]
  },
  {
   "cell_type": "code",
   "execution_count": 199,
   "metadata": {},
   "outputs": [
    {
     "name": "stdout",
     "output_type": "stream",
     "text": [
      "1453\n",
      "497\n",
      "1848\n",
      "69\n",
      "297\n"
     ]
    }
   ],
   "source": [
    "train_pocket = equilibrator_samplor(PATH_DATA, nucleotid, heme, control, steroid, 100)\n",
    "X_train = load_x(PATH_DATA, train_pocket)\n",
    "one_hot_Y_train = load_y(train_pocket, nucleotid, heme, control, steroid)\n",
    "#one_hot_Y_train = one_hot_encoding(Y_train)\n",
    "remove_list(train_pocket, nucleotid, heme, control, steroid)\n",
    "\n",
    "print(len(nucleotid))\n",
    "print(len(heme))\n",
    "print(len(control))\n",
    "print(len(steroid))\n",
    "print(len(train_pocket))"
   ]
  },
  {
   "cell_type": "code",
   "execution_count": 200,
   "metadata": {},
   "outputs": [
    {
     "name": "stdout",
     "output_type": "stream",
     "text": [
      "(297, 14, 32, 32, 32)\n",
      "<class 'numpy.ndarray'>\n",
      "(319, 14, 32, 32, 32)\n",
      "<class 'numpy.ndarray'>\n",
      "(297, 3)\n",
      "<class 'numpy.ndarray'>\n",
      "(319, 3)\n",
      "<class 'numpy.ndarray'>\n"
     ]
    }
   ],
   "source": [
    "test_pocket = equilibrator_samplor(PATH_DATA, nucleotid, heme, control, steroid, 100)\n",
    "X_test = load_x(PATH_DATA, test_pocket)\n",
    "one_hot_Y_test = load_y(test_pocket, nucleotid, heme, control, steroid)\n",
    "#one_hot_Y_test = one_hot_encoding(Y_test)\n",
    "print(X_train.shape)\n",
    "print(type(X_train))\n",
    "print(X_test.shape)\n",
    "print(type(X_test))\n",
    "#print(len(Y_train))\n",
    "#print(type(Y_train))\n",
    "#print(len(Y_test))\n",
    "#print(type(Y_test))\n",
    "print(one_hot_Y_train.shape)\n",
    "print(type(one_hot_Y_train))\n",
    "print(one_hot_Y_test.shape)\n",
    "print(type(one_hot_Y_test))"
   ]
  },
  {
   "cell_type": "code",
   "execution_count": 201,
   "metadata": {},
   "outputs": [],
   "source": [
    "for pocket in train_pocket:\n",
    "    if pocket in test_pocket:\n",
    "        print(\"putain\")"
   ]
  },
  {
   "cell_type": "code",
   "execution_count": 202,
   "metadata": {},
   "outputs": [],
   "source": [
    "nt= 0\n",
    "hem = 0\n",
    "ste = 0\n",
    "ctr = 0\n",
    "\n",
    "for i in range(0, one_hot_Y_train.shape[0]):\n",
    "    if one_hot_Y_train[i,0]:\n",
    "        ctr += 1\n",
    "    elif one_hot_Y_train[i,1]:\n",
    "        nt += 1\n",
    "    elif one_hot_Y_train[i,2]:\n",
    "        hem += 1\n",
    "    else:\n",
    "        ste += 1"
   ]
  },
  {
   "cell_type": "code",
   "execution_count": 203,
   "metadata": {},
   "outputs": [
    {
     "name": "stdout",
     "output_type": "stream",
     "text": [
      "99\n",
      "98\n",
      "0\n",
      "100\n",
      "99+98+0+100 = 297\n",
      "297\n"
     ]
    }
   ],
   "source": [
    "print(nt)\n",
    "print(hem)\n",
    "print(ste)\n",
    "print(ctr)\n",
    "print(\"{}+{}+{}+{} = {}\".format(nt,hem,ste,ctr, nt+hem+ste+ctr))\n",
    "print(len(one_hot_Y_train))"
   ]
  },
  {
   "cell_type": "code",
   "execution_count": 204,
   "metadata": {},
   "outputs": [
    {
     "name": "stdout",
     "output_type": "stream",
     "text": [
      "False\n",
      "False\n"
     ]
    }
   ],
   "source": [
    "from numpy import isnan\n",
    "\n",
    "print(True in isnan(X_test))\n",
    "print(True in isnan(X_train))"
   ]
  },
  {
   "cell_type": "markdown",
   "metadata": {},
   "source": [
    "### 2) Construction du modèle"
   ]
  },
  {
   "cell_type": "code",
   "execution_count": null,
   "metadata": {},
   "outputs": [],
   "source": [
    "def seq_model():\n",
    "    model = Sequential()\n",
    "    model.add(Conv3D(filters = 14, kernel_size = 5, data_format=\"channels_first\",\n",
    "                     strides=1, padding= \"same\", activation = \"relu\", kernel_initializer=\"he_normal\",\n",
    "                     input_shape = (14,32,32,32)))\n",
    "    model.add(Conv3D(filters = 14, kernel_size = 3, data_format=\"channels_first\",\n",
    "                     strides=1, padding= \"same\", activation = \"relu\"))\n",
    "    model.add(Dropout(rate = 0.5))\n",
    "    model.add(MaxPool3D(pool_size = 4, strides = 1, padding = \"valid\"))\n",
    "    model.add(Dropout(rate = 0.5))\n",
    "    model.add(Flatten(data_format = \"channels_first\"))\n",
    "    model.add(Dense(100))\n",
    "    model.add(Dense(units = 3, activation = \"softmax\"))\n",
    "    model.compile(optimizer=\"adam\",loss=\"categorical_crossentropy\",metrics=['accuracy'])\n",
    "    return model"
   ]
  },
  {
   "cell_type": "code",
   "execution_count": 205,
   "metadata": {},
   "outputs": [],
   "source": [
    "def model_one():\n",
    "    input_layer = keras.Input(shape=(14, 32, 32, 32))\n",
    "    conv_1 = keras.layers.Conv3D(\n",
    "        filters = 32,\n",
    "        kernel_size = 5,\n",
    "        activation = \"relu\", \n",
    "        data_format = \"channels_first\",\n",
    "        padding = \"valid\"\n",
    "        )(input_layer)\n",
    "    dropout_1 = keras.layers.Dropout(rate=0.2)(conv_1)\n",
    "    conv_2 = keras.layers.Conv3D(\n",
    "        filters = 32,\n",
    "        kernel_size = 3,\n",
    "        activation = \"relu\", \n",
    "        data_format=\"channels_first\",\n",
    "        padding=\"valid\"\n",
    "        )(dropout_1)\n",
    "    max_pooling_1 = keras.layers.MaxPooling3D(\n",
    "        pool_size=(2,2,2),\n",
    "        strides=None,\n",
    "        padding=\"valid\",\n",
    "        data_format=\"channels_first\"\n",
    "        )(conv_2)\n",
    "    dropout_2 = keras.layers.Dropout(rate=0.4)(max_pooling_1)\n",
    "    flatten_1 = keras.layers.Flatten()(dropout_2)\n",
    "    dense_1 = keras.layers.Dense(units=100, activation=\"relu\")(flatten_1)\n",
    "    output_layer = keras.layers.Dense(units=3, activation=\"softmax\")(dense_1)\n",
    "    notdeepdrug_model = keras.Model(inputs=input_layer,outputs=output_layer)\n",
    "    notdeepdrug_model.compile(\n",
    "            optimizer=\"adam\", \n",
    "            loss=\"categorical_crossentropy\",\n",
    "            metrics=[\"accuracy\"]\n",
    "            )\n",
    "    return notdeepdrug_model"
   ]
  },
  {
   "cell_type": "code",
   "execution_count": 206,
   "metadata": {},
   "outputs": [
    {
     "name": "stdout",
     "output_type": "stream",
     "text": [
      "Train on 282 samples, validate on 15 samples\n",
      "Epoch 1/5\n",
      "282/282 [==============================] - 56s 197ms/step - loss: 6.1003 - accuracy: 0.3333 - val_loss: 1.1214 - val_accuracy: 0.2000\n",
      "Epoch 2/5\n",
      "282/282 [==============================] - 49s 173ms/step - loss: 1.0988 - accuracy: 0.3369 - val_loss: 1.0992 - val_accuracy: 0.2667\n",
      "Epoch 3/5\n",
      "282/282 [==============================] - 49s 173ms/step - loss: 1.0987 - accuracy: 0.3404 - val_loss: 1.0994 - val_accuracy: 0.2667\n",
      "Epoch 4/5\n",
      "282/282 [==============================] - 50s 176ms/step - loss: 1.0986 - accuracy: 0.3404 - val_loss: 1.0999 - val_accuracy: 0.2667\n",
      "Epoch 5/5\n",
      "282/282 [==============================] - 51s 182ms/step - loss: 1.0985 - accuracy: 0.3404 - val_loss: 1.1002 - val_accuracy: 0.2667\n"
     ]
    },
    {
     "data": {
      "text/plain": [
       "<keras.callbacks.callbacks.History at 0x7fb09d95f7d0>"
      ]
     },
     "execution_count": 206,
     "metadata": {},
     "output_type": "execute_result"
    }
   ],
   "source": [
    "fct_model  = model_one()\n",
    "fct_model.fit(X_train, one_hot_Y_train, epochs = 10, batch_size = 20,\n",
    "              validation_split = 0.05, shuffle = True)"
   ]
  },
  {
   "cell_type": "code",
   "execution_count": 207,
   "metadata": {},
   "outputs": [
    {
     "name": "stdout",
     "output_type": "stream",
     "text": [
      "Model: \"model_30\"\n",
      "_________________________________________________________________\n",
      "Layer (type)                 Output Shape              Param #   \n",
      "=================================================================\n",
      "input_41 (InputLayer)        (None, 14, 32, 32, 32)    0         \n",
      "_________________________________________________________________\n",
      "conv3d_79 (Conv3D)           (None, 32, 28, 28, 28)    56032     \n",
      "_________________________________________________________________\n",
      "dropout_72 (Dropout)         (None, 32, 28, 28, 28)    0         \n",
      "_________________________________________________________________\n",
      "conv3d_80 (Conv3D)           (None, 32, 26, 26, 26)    27680     \n",
      "_________________________________________________________________\n",
      "max_pooling3d_31 (MaxPooling (None, 32, 13, 13, 13)    0         \n",
      "_________________________________________________________________\n",
      "dropout_73 (Dropout)         (None, 32, 13, 13, 13)    0         \n",
      "_________________________________________________________________\n",
      "flatten_31 (Flatten)         (None, 70304)             0         \n",
      "_________________________________________________________________\n",
      "dense_60 (Dense)             (None, 100)               7030500   \n",
      "_________________________________________________________________\n",
      "dense_61 (Dense)             (None, 3)                 303       \n",
      "=================================================================\n",
      "Total params: 7,114,515\n",
      "Trainable params: 7,114,515\n",
      "Non-trainable params: 0\n",
      "_________________________________________________________________\n"
     ]
    }
   ],
   "source": [
    "fct_model.summary()"
   ]
  },
  {
   "cell_type": "markdown",
   "metadata": {},
   "source": [
    "# 3) Evaluation du modèle"
   ]
  },
  {
   "cell_type": "code",
   "execution_count": null,
   "metadata": {},
   "outputs": [
    {
     "name": "stdout",
     "output_type": "stream",
     "text": [
      " 32/319 [==>...........................] - ETA: 21s"
     ]
    }
   ],
   "source": [
    "evaluation = fct_model.evaluate(X_test, one_hot_Y_test, batch_size = 32)\n",
    "print(evaluation)"
   ]
  },
  {
   "cell_type": "code",
   "execution_count": null,
   "metadata": {},
   "outputs": [],
   "source": [
    "training = KerasClassifier(build_fn = model_one, epochs = 5, batch_size=20, verbose=0)\n",
    "kfold = KFold(n_splits = 5, shuffle=True)\n",
    "cv_result = cross_val_score(training, X_train, one_hot_Y_train, cv = kfold)\n",
    "print(cv_result)\n",
    "print(\"%.2f%%(%2d%%)\"%(cv_result.mean()*100, cv_result.std()*100))"
   ]
  },
  {
   "cell_type": "code",
   "execution_count": 194,
   "metadata": {},
   "outputs": [],
   "source": [
    "predictions = fct_model.predict(X_test, batch_size = 20)"
   ]
  },
  {
   "cell_type": "code",
   "execution_count": 196,
   "metadata": {},
   "outputs": [
    {
     "name": "stdout",
     "output_type": "stream",
     "text": [
      "[0.32951343 0.3376421  0.33284447]\n",
      "[0.32951343 0.3376421  0.33284447]\n",
      "[0.32951343 0.3376421  0.33284447]\n",
      "[0.32951343 0.3376421  0.33284447]\n",
      "[0.32951343 0.3376421  0.33284447]\n",
      "[0.32951343 0.3376421  0.33284447]\n",
      "[0.32951343 0.3376421  0.33284447]\n",
      "[0.32951343 0.3376421  0.33284447]\n",
      "[0.32951343 0.3376421  0.33284447]\n",
      "[0.32951343 0.3376421  0.33284447]\n",
      "[0.32951343 0.3376421  0.33284447]\n",
      "[0.32951343 0.3376421  0.33284447]\n",
      "[0.32951343 0.3376421  0.33284447]\n",
      "[0.32951343 0.3376421  0.33284447]\n",
      "[0.32951343 0.3376421  0.33284447]\n",
      "[0.32951343 0.3376421  0.33284447]\n",
      "[0.32951343 0.3376421  0.33284447]\n",
      "[0.32951343 0.3376421  0.33284447]\n",
      "[0.32951343 0.3376421  0.33284447]\n",
      "[0.32951343 0.3376421  0.33284447]\n",
      "[0.32951343 0.3376421  0.33284447]\n",
      "[0.32951343 0.3376421  0.33284447]\n",
      "[0.32951343 0.3376421  0.33284447]\n",
      "[0.32951343 0.3376421  0.33284447]\n",
      "[0.32951343 0.3376421  0.33284447]\n",
      "[0.32951343 0.3376421  0.33284447]\n",
      "[0.32951343 0.3376421  0.33284447]\n",
      "[0.32951343 0.3376421  0.33284447]\n",
      "[0.32951343 0.3376421  0.33284447]\n",
      "[0.32951343 0.3376421  0.33284447]\n",
      "[0.32951343 0.3376421  0.33284447]\n",
      "[0.32951343 0.3376421  0.33284447]\n",
      "[0.32951343 0.3376421  0.33284447]\n",
      "[0.32951343 0.3376421  0.33284447]\n",
      "[0.32951343 0.3376421  0.33284447]\n",
      "[0.32951343 0.3376421  0.33284447]\n",
      "[0.32951343 0.3376421  0.33284447]\n",
      "[0.32951343 0.3376421  0.33284447]\n",
      "[0.32951343 0.3376421  0.33284447]\n",
      "[0.32951343 0.3376421  0.33284447]\n",
      "[0.32951343 0.3376421  0.33284447]\n",
      "[0.32951343 0.3376421  0.33284447]\n",
      "[0.32951343 0.3376421  0.33284447]\n",
      "[0.32951343 0.3376421  0.33284447]\n",
      "[0.32951343 0.3376421  0.33284447]\n",
      "[0.32951343 0.3376421  0.33284447]\n",
      "[0.32951343 0.3376421  0.33284447]\n",
      "[0.32951343 0.3376421  0.33284447]\n",
      "[0.32951343 0.3376421  0.33284447]\n",
      "[0.32951343 0.3376421  0.33284447]\n",
      "[0.32951343 0.3376421  0.33284447]\n",
      "[0.32951343 0.3376421  0.33284447]\n",
      "[0.32951343 0.3376421  0.33284447]\n",
      "[0.32951343 0.3376421  0.33284447]\n",
      "[0.32951343 0.3376421  0.33284447]\n",
      "[0.32951343 0.3376421  0.33284447]\n",
      "[0.32951343 0.3376421  0.33284447]\n",
      "[0.32951343 0.3376421  0.33284447]\n",
      "[0.32951343 0.3376421  0.33284447]\n",
      "[0.32951343 0.3376421  0.33284447]\n",
      "[0.32951343 0.3376421  0.33284447]\n",
      "[0.32951343 0.3376421  0.33284447]\n",
      "[0.32951343 0.3376421  0.33284447]\n",
      "[0.32951343 0.3376421  0.33284447]\n",
      "[0.32951343 0.3376421  0.33284447]\n",
      "[0.32951343 0.3376421  0.33284447]\n",
      "[0.32951343 0.3376421  0.33284447]\n",
      "[0.32951343 0.3376421  0.33284447]\n",
      "[0.32951343 0.3376421  0.33284447]\n",
      "[0.32951343 0.3376421  0.33284447]\n",
      "[0.32951343 0.3376421  0.33284447]\n",
      "[0.32951343 0.3376421  0.33284447]\n",
      "[0.32951343 0.3376421  0.33284447]\n",
      "[0.32951343 0.3376421  0.33284447]\n",
      "[0.32951343 0.3376421  0.33284447]\n",
      "[0.32951343 0.3376421  0.33284447]\n",
      "[0.32951343 0.3376421  0.33284447]\n",
      "[0.32951343 0.3376421  0.33284447]\n",
      "[0.32951343 0.3376421  0.33284447]\n",
      "[0.32951343 0.3376421  0.33284447]\n",
      "[0.32951343 0.3376421  0.33284447]\n",
      "[0.32951343 0.3376421  0.33284447]\n",
      "[0.32951343 0.3376421  0.33284447]\n",
      "[0.32951343 0.3376421  0.33284447]\n",
      "[0.32951343 0.3376421  0.33284447]\n",
      "[0.32951343 0.3376421  0.33284447]\n",
      "[0.32951343 0.3376421  0.33284447]\n",
      "[0.32951343 0.3376421  0.33284447]\n",
      "[0.32951343 0.3376421  0.33284447]\n",
      "[0.32951343 0.3376421  0.33284447]\n",
      "[0.32951343 0.3376421  0.33284447]\n",
      "[0.32951343 0.3376421  0.33284447]\n",
      "[0.32951343 0.3376421  0.33284447]\n",
      "[0.32951343 0.3376421  0.33284447]\n",
      "[0.32951343 0.3376421  0.33284447]\n",
      "[0.32951343 0.3376421  0.33284447]\n",
      "[0.32951343 0.3376421  0.33284447]\n",
      "[0.32951343 0.3376421  0.33284447]\n",
      "[0.32951343 0.3376421  0.33284447]\n",
      "[0.32951343 0.3376421  0.33284447]\n",
      "[0.32951343 0.3376421  0.33284447]\n",
      "[0.32951343 0.3376421  0.33284447]\n",
      "[0.32951343 0.3376421  0.33284447]\n",
      "[0.32951343 0.3376421  0.33284447]\n",
      "[0.32951343 0.3376421  0.33284447]\n",
      "[0.32951343 0.3376421  0.33284447]\n",
      "[0.32951343 0.3376421  0.33284447]\n",
      "[0.32951343 0.3376421  0.33284447]\n",
      "[0.32951343 0.3376421  0.33284447]\n",
      "[0.32951343 0.3376421  0.33284447]\n",
      "[0.32951343 0.3376421  0.33284447]\n",
      "[0.32951343 0.3376421  0.33284447]\n",
      "[0.32951343 0.3376421  0.33284447]\n",
      "[0.32951343 0.3376421  0.33284447]\n",
      "[0.32951343 0.3376421  0.33284447]\n",
      "[0.32951343 0.3376421  0.33284447]\n",
      "[0.32951343 0.3376421  0.33284447]\n",
      "[0.32951343 0.3376421  0.33284447]\n",
      "[0.32951343 0.3376421  0.33284447]\n",
      "[0.32951343 0.3376421  0.33284447]\n",
      "[0.32951343 0.3376421  0.33284447]\n",
      "[0.32951343 0.3376421  0.33284447]\n",
      "[0.32951343 0.3376421  0.33284447]\n",
      "[0.32951343 0.3376421  0.33284447]\n",
      "[0.32951343 0.3376421  0.33284447]\n",
      "[0.32951343 0.3376421  0.33284447]\n",
      "[0.32951343 0.3376421  0.33284447]\n",
      "[0.32951343 0.3376421  0.33284447]\n",
      "[0.32951343 0.3376421  0.33284447]\n",
      "[0.32951343 0.3376421  0.33284447]\n",
      "[0.32951343 0.3376421  0.33284447]\n",
      "[0.32951343 0.3376421  0.33284447]\n",
      "[0.32951343 0.3376421  0.33284447]\n",
      "[0.32951343 0.3376421  0.33284447]\n",
      "[0.32951343 0.3376421  0.33284447]\n",
      "[0.32951343 0.3376421  0.33284447]\n",
      "[0.32951343 0.3376421  0.33284447]\n",
      "[0.32951343 0.3376421  0.33284447]\n",
      "[0.32951343 0.3376421  0.33284447]\n",
      "[0.32951343 0.3376421  0.33284447]\n",
      "[0.32951343 0.3376421  0.33284447]\n",
      "[0.32951343 0.3376421  0.33284447]\n",
      "[0.32951343 0.3376421  0.33284447]\n",
      "[0.32951343 0.3376421  0.33284447]\n"
     ]
    }
   ],
   "source": [
    "for p in predictions:\n",
    "    print(p)"
   ]
  },
  {
   "cell_type": "code",
   "execution_count": null,
   "metadata": {},
   "outputs": [],
   "source": [
    "tp = 0\n",
    "fp = 0\n",
    "tn = 0\n",
    "fn = 0\n",
    "\n",
    "for i in range(predictions.shape[0]):\n",
    "    maxi = max(predictions[i,:])\n",
    "    if maxi == predictions[i, 0]:\n",
    "        classe = 0\n",
    "    elif maxi == predictions[i,1]:\n",
    "        classe = 1\n",
    "    elif maxi == predictions[i,2]:\n",
    "        classe = 2\n",
    "        \n",
    "    if (one_hot_Y_test[i, 0] == 1.0) and (classe == 0):\n",
    "        tp += 1\n",
    "    elif (one_hot_Y_test[i, 1] == 1.0) and (classe == 1):\n",
    "        tp += 1\n",
    "    elif (one_hot_Y_test[i, 2] == 1.0) and (classe == 0):\n",
    "        fp += 1\n",
    "    elif (one_hot_Y_test[i, 2] == 1.0) and (classe == 1):\n",
    "        fp += 1\n",
    "    elif (one_hot_Y_test[i, 2] == 1.0) and (classe == 2):\n",
    "        tn += 1\n",
    "    elif (one_hot_Y_test[i, 2] == 0.0) and (classe == 2):\n",
    "        fn += 1\n",
    "        \n",
    "from math import sqrt\n",
    "\n",
    "print(\"TP:{:.2f}%\".format(tp*100/len(predictions)))\n",
    "print(\"FP:{:.2f}%\".format(fp*100/len(predictions)))\n",
    "print(\"TN:{:.2f}\".format(tn*100/len(predictions)))\n",
    "print(\"FN:{:.2f}\".format(fn*100/len(predictions)))\n",
    "print(\"ACC = {:.2f}%\".format((tp+tn)*100/(tp+tn+fp+fn)))\n",
    "print(\"PPV = {:.2f}%\".format(tp*100/(tp+fp)))\n",
    "print(\"TNR = {:.2f}%\".format(tn*100/(tn+fp)))\n",
    "print(\"TPR = {:.2f}%\".format(tp*100/(tp+fn)))\n",
    "print(\"FPR = {:.2f}%\".format(fp*100/(fp+tn)))\n",
    "print(\"MCC = {:.2f}\".format(((tn*tp)-(fp*fn))/sqrt((tp+fp)*(tp+fn)*(tn+fp)*(tn+fn))))"
   ]
  },
  {
   "cell_type": "code",
   "execution_count": null,
   "metadata": {},
   "outputs": [],
   "source": []
  }
 ],
 "metadata": {
  "kernelspec": {
   "display_name": "Python 3",
   "language": "python",
   "name": "python3"
  },
  "language_info": {
   "codemirror_mode": {
    "name": "ipython",
    "version": 3
   },
   "file_extension": ".py",
   "mimetype": "text/x-python",
   "name": "python",
   "nbconvert_exporter": "python",
   "pygments_lexer": "ipython3",
   "version": "3.7.4"
  }
 },
 "nbformat": 4,
 "nbformat_minor": 4
}
