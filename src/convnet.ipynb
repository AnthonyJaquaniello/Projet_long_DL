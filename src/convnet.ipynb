{
 "cells": [
  {
   "cell_type": "markdown",
   "metadata": {},
   "source": [
    "## Classification des poches protéiques en fonction du type de druggabilité, par un CNN"
   ]
  },
  {
   "cell_type": "markdown",
   "metadata": {},
   "source": [
    "### 1) Préparation des données"
   ]
  },
  {
   "cell_type": "code",
   "execution_count": 1,
   "metadata": {},
   "outputs": [
    {
     "name": "stderr",
     "output_type": "stream",
     "text": [
      "Using TensorFlow backend.\n"
     ]
    }
   ],
   "source": [
    "import keras\n",
    "import numpy as np\n",
    "from random import shuffle\n",
    "\n",
    "from sklearn.preprocessing import LabelEncoder\n",
    "from sklearn.model_selection import cross_val_score\n",
    "from sklearn.model_selection import KFold\n",
    "from keras.layers import Dense, Flatten, Dropout\n",
    "from keras.wrappers.scikit_learn import KerasClassifier\n",
    "from keras.callbacks.callbacks import EarlyStopping, Callback, ModelCheckpoint\n",
    "from keras.layers import add, Activation\n",
    "from keras.layers import Conv3D, MaxPool3D\n",
    "from keras.models import Sequential, load_model\n",
    "from os import listdir"
   ]
  },
  {
   "cell_type": "code",
   "execution_count": 2,
   "metadata": {},
   "outputs": [],
   "source": [
    "PATH_TRAIN = \"../data/x_train\"\n",
    "PATH_TEST = \"../data/x_test\""
   ]
  },
  {
   "cell_type": "code",
   "execution_count": 3,
   "metadata": {},
   "outputs": [],
   "source": [
    "def load_x(path, control):\n",
    "    X = [np.load(\"{}/{}\".format(path, pocket))\n",
    "         for pocket in listdir(path)]\n",
    "    X = [np.squeeze(array) for array in X]\n",
    "    X = np.array(X)\n",
    "    X = np.moveaxis(X, 1, -1)\n",
    "    return X\n",
    "\n",
    "def load_y(path, nucleotid, heme, steroid, control):\n",
    "    Y = []\n",
    "    for pocket in listdir(path):\n",
    "        if pocket in nucleotid:\n",
    "            Y.append(1)\n",
    "        elif pocket in heme:\n",
    "            Y.append(2)\n",
    "        elif pocket in steroid:\n",
    "            Y.append(3)\n",
    "        elif pocket in control:\n",
    "            Y.append(0)\n",
    "    Y  = np.array(Y)\n",
    "    return Y\n",
    "\n",
    "def one_hot_encoding(y):\n",
    "    classes = LabelEncoder()\n",
    "    integer_encoding = classes.fit_transform(y)\n",
    "    one_hot_Y = keras.utils.to_categorical(integer_encoding)\n",
    "    return one_hot_Y\n",
    "\n",
    "def list_generator(file):\n",
    "    with open(file, \"r\") as filin:\n",
    "        liste = [\"{}.npy\".format(line[:-1]) for line in filin]\n",
    "    return liste"
   ]
  },
  {
   "cell_type": "code",
   "execution_count": 4,
   "metadata": {},
   "outputs": [
    {
     "name": "stdout",
     "output_type": "stream",
     "text": [
      "(229, 32, 32, 32, 14)\n",
      "(357, 32, 32, 32, 14)\n",
      "(229, 4)\n",
      "(357, 4)\n"
     ]
    }
   ],
   "source": [
    "#X_train est une liste d'array de dimensions (1,14,32,32,32)\n",
    "#Il est constitué des 346 premières poches\n",
    "nucleotid = list_generator(\"nucleotide.list.txt\")\n",
    "heme = list_generator(\"heme.list.txt\")\n",
    "steroid = list_generator(\"steroid.list.txt\")\n",
    "control = list_generator(\"control.list.txt\")\n",
    "\n",
    "X_train = load_x(PATH_TRAIN, control)\n",
    "X_test = load_x(PATH_TEST, control)\n",
    "Y_train = load_y(PATH_TRAIN, nucleotid, heme, steroid, control)\n",
    "Y_test = load_y(PATH_TEST, nucleotid, heme, steroid, control)\n",
    "one_hot_Y_train = one_hot_encoding(Y_train)\n",
    "one_hot_Y_test = one_hot_encoding(Y_test)\n",
    "print(X_train.shape)\n",
    "print(X_test.shape)\n",
    "print(one_hot_Y_train.shape)\n",
    "print(one_hot_Y_test.shape)"
   ]
  },
  {
   "cell_type": "code",
   "execution_count": 28,
   "metadata": {},
   "outputs": [
    {
     "name": "stdout",
     "output_type": "stream",
     "text": [
      "229\n",
      "357\n",
      "229\n",
      "357\n"
     ]
    }
   ],
   "source": [
    "print(len(listdir(PATH_TRAIN)))\n",
    "print(len(listdir(PATH_TEST)))\n",
    "print(len(Y_train))\n",
    "print(len(Y_test))"
   ]
  },
  {
   "cell_type": "markdown",
   "metadata": {},
   "source": [
    "Pour les Y va créer un code pour savoir quelle est la classe de druggabilité de la poche:\n",
    "<ul>\n",
    "    <li/> 1 : nucléotide\n",
    "    <li/> 2 : hème\n",
    "    <li/> 3 : stéroïde\n",
    "    <li/> 0 : control"
   ]
  },
  {
   "cell_type": "markdown",
   "metadata": {},
   "source": [
    "Attention cependant, j'ai pris les 346 première poches, or peut être qu'il y a un déséquilibre de classe: beaucoup de poches dans une classe et beaucoup dans d'autres. On va regarder. "
   ]
  },
  {
   "cell_type": "code",
   "execution_count": 5,
   "metadata": {},
   "outputs": [],
   "source": [
    "nt= 0\n",
    "hem = 0\n",
    "ste = 0\n",
    "ctr = 0\n",
    "\n",
    "for i in range(0,one_hot_Y_train.shape[0]):\n",
    "    if one_hot_Y_train[i,0]:\n",
    "        nt += 1\n",
    "    elif one_hot_Y_train[i,1]:\n",
    "        hem += 1\n",
    "    elif one_hot_Y_train[i,2]:\n",
    "        ste += 1\n",
    "    else:\n",
    "        ctr += 1"
   ]
  },
  {
   "cell_type": "code",
   "execution_count": 7,
   "metadata": {},
   "outputs": [
    {
     "name": "stdout",
     "output_type": "stream",
     "text": [
      "52\n",
      "68\n",
      "7\n",
      "0\n",
      "52+68+7+0 = 127\n",
      "127\n",
      "1946\n"
     ]
    }
   ],
   "source": [
    "print(nt)\n",
    "print(hem)\n",
    "print(ste)\n",
    "print(ctr)\n",
    "print(\"{}+{}+{}+{} = {}\".format(nt,hem,ste,ctr, nt+hem+ste+ctr))\n",
    "print(len(one_hot_Y_train))"
   ]
  },
  {
   "cell_type": "markdown",
   "metadata": {},
   "source": [
    "On s'aperçoit qu'on a très peu de poches druggables par les stéroïdes, c'est une bonne chose car ce sont des faux positifs. Les stéroïdes jouent le rôle de contrôle négatif. A part ça, pas de prédominance particulière d'une classe par rapport à l'autre."
   ]
  },
  {
   "cell_type": "markdown",
   "metadata": {},
   "source": [
    "### 2) Construction du modèle"
   ]
  },
  {
   "cell_type": "code",
   "execution_count": 23,
   "metadata": {},
   "outputs": [],
   "source": [
    "def model_one():\n",
    "    model = Sequential()\n",
    "    model.add(Conv3D(filters = 32, kernel_size = 14, strides=1, padding= \"same\", activation = \"relu\", kernel_initializer=\"he_normal\"))\n",
    "    model.add(Conv3D(filters=22, kernel_size = 7, strides=1, padding= \"same\", activation = \"relu\", kernel_initializer=\"he_normal\"))\n",
    "    model.add(Dropout(0.4))\n",
    "    model.add(MaxPool3D(pool_size = 2, strides = 1, padding = \"same\"))\n",
    "    model.add(Dropout(0.4))\n",
    "    model.add(Flatten())\n",
    "    model.add(Dense(units = 75, activation = \"relu\"))\n",
    "    model.add(Dropout(0.4))\n",
    "    model.add(Dense(units = 4, activation = \"softmax\"))\n",
    "    model.compile(optimizer=\"adam\",loss=\"categorical_crossentropy\",metrics=['accuracy'])\n",
    "    return model"
   ]
  },
  {
   "cell_type": "code",
   "execution_count": 8,
   "metadata": {},
   "outputs": [
    {
     "name": "stdout",
     "output_type": "stream",
     "text": [
      "WARNING:tensorflow:From /home/anthony/miniconda3/envs/dev/lib/python3.7/site-packages/keras/backend/tensorflow_backend.py:422: The name tf.global_variables is deprecated. Please use tf.compat.v1.global_variables instead.\n",
      "\n",
      "Train on 180 samples, validate on 20 samples\n",
      "Epoch 1/5\n",
      "180/180 [==============================] - 100s 557ms/step - loss: 39.0845 - accuracy: 0.3111 - val_loss: 1.2894 - val_accuracy: 0.4000\n",
      "Epoch 2/5\n",
      "180/180 [==============================] - 100s 553ms/step - loss: 1.3520 - accuracy: 0.2500 - val_loss: 1.3275 - val_accuracy: 0.3000\n",
      "Epoch 3/5\n",
      "180/180 [==============================] - 99s 549ms/step - loss: 1.2666 - accuracy: 0.3611 - val_loss: 1.2987 - val_accuracy: 0.3500\n"
     ]
    },
    {
     "data": {
      "text/plain": [
       "<keras.callbacks.callbacks.History at 0x7fc5b37d2b10>"
      ]
     },
     "execution_count": 8,
     "metadata": {},
     "output_type": "execute_result"
    }
   ],
   "source": [
    "np.random.seed(1000)\n",
    "critor = EarlyStopping(monitor = \"val_loss\", patience = 2, mode = \"min\")\n",
    "my_model = model_one()\n",
    "\n",
    "#best_model_path = \"../results/my_model\"+\".h5\"\n",
    "#best_model = ModelCheckpoint(best_model_path, monitor = \"val_loss\", verbose = 2, save_best_only = True)\n",
    "#my_best_model = load_model(\"../results/my_model.h5\")\n",
    "\n",
    "my_model.fit(X_train[0:200,:,:,:,:], one_hot_Y_train[0:200,:], epochs = 5, batch_size = 15,\n",
    "                  validation_split = 0.1, callbacks = [critor])"
   ]
  },
  {
   "cell_type": "markdown",
   "metadata": {},
   "source": [
    "### 3) Evaluation du modèle"
   ]
  },
  {
   "cell_type": "code",
   "execution_count": 9,
   "metadata": {},
   "outputs": [
    {
     "name": "stdout",
     "output_type": "stream",
     "text": [
      "357/357 [==============================] - 34s 97ms/step\n",
      "[1.3030099234327215, 0.1260504275560379]\n"
     ]
    }
   ],
   "source": [
    "evaluation = my_model.evaluate(X_test, one_hot_Y_test)\n",
    "print(evaluation)"
   ]
  },
  {
   "cell_type": "markdown",
   "metadata": {},
   "source": [
    "Avec les paramètres suivants:\n",
    "<ul>\n",
    "    <li/> filters = 24\n",
    "    <li/> kernel_size = 12\n",
    "    <li/> pool_size = 2\n",
    "    <li/> units = 50\n",
    "    \n",
    "J'obtient une val loss de 1.29 et une accuracy de 0.37"
   ]
  },
  {
   "cell_type": "code",
   "execution_count": null,
   "metadata": {},
   "outputs": [],
   "source": [
    "training = KerasClassifier(build_fn = model_one, epochs = 5, batch_size=15, verbose=0)\n",
    "kfold = KFold(n_splits = 5, shuffle=True)\n",
    "cv_result = cross_val_score(training, X_train, one_hot_Y_train, cv = kfold)\n",
    "print(cv_result)\n",
    "print(\"%.2f%%(%2d%%)\"%(cv_result.mean()*100, cv_result.std()*100))"
   ]
  },
  {
   "cell_type": "code",
   "execution_count": 29,
   "metadata": {},
   "outputs": [
    {
     "name": "stdout",
     "output_type": "stream",
     "text": [
      "TP:12.04%\n",
      "FP:22.97%\n",
      "TN:0.56\n",
      "FN:6.72\n",
      "ACC = 29.80%\n",
      "PPV = 34.40%\n",
      "TNR = 2.38%\n",
      "TPR = 64.18%\n",
      "FPR = 97.62%\n"
     ]
    }
   ],
   "source": [
    "predictions = my_model.predict(X_test)\n",
    "\n",
    "tp = 0\n",
    "fp = 0\n",
    "tn = 0\n",
    "fn = 0\n",
    "\n",
    "for i in range(predictions.shape[0]):\n",
    "    maxi = max(predictions[i,:])\n",
    "    if maxi == predictions[i, 0]:\n",
    "        classe = 0\n",
    "    elif maxi == predictions[i,1]:\n",
    "        classe = 1\n",
    "    elif maxi == predictions[i,2]:\n",
    "        classe = 2\n",
    "    elif maxi == predictions[i,3]:\n",
    "        classe = 3\n",
    "        \n",
    "    if (one_hot_Y_test[i, 1] == 1.0) and (classe == 1):\n",
    "        tp += 1\n",
    "    elif (one_hot_Y_test[i, 2] == 1.0) and (classe == 2):\n",
    "        tp += 1\n",
    "    elif (one_hot_Y_test[i, 3] == 1.0) and (classe == 3):\n",
    "        tp += 1\n",
    "    elif (one_hot_Y_test[i, 0] == 1.0) and (classe == 1):\n",
    "        fp += 1\n",
    "    elif (one_hot_Y_test[i, 0] == 1.0) and (classe == 2):\n",
    "        fp += 1\n",
    "    elif (one_hot_Y_test[i, 0] == 1.0) and (classe == 3):\n",
    "        fp += 1\n",
    "    elif (one_hot_Y_test[i, 0] == 1.0) and (classe == 0):\n",
    "        tn += 1\n",
    "    elif (one_hot_Y_test[i, 0] == 0.0) and (classe == 0):\n",
    "        fn += 1\n",
    "        \n",
    "from math import sqrt\n",
    "\n",
    "print(\"TP:{:.2f}%\".format(tp*100/len(predictions)))\n",
    "print(\"FP:{:.2f}%\".format(fp*100/len(predictions)))\n",
    "print(\"TN:{:.2f}\".format(tn*100/len(predictions)))\n",
    "print(\"FN:{:.2f}\".format(fn*100/len(predictions)))\n",
    "print(\"ACC = {:.2f}%\".format((tp+tn)*100/(tp+tn+fp+fn)))\n",
    "print(\"PPV = {:.2f}%\".format(tp*100/(tp+fp)))\n",
    "print(\"TNR = {:.2f}%\".format(tn*100/(tn+fp)))\n",
    "print(\"TPR = {:.2f}%\".format(tp*100/(tp+fn)))\n",
    "print(\"FPR = {:.2f}%\".format(fp*100/(fp+tn)))\n",
    "print(\"MCC = {:.2f}\".format(((tn*tp)-(fp*fn))/sqrt((tp+fp)*(tp+fn)*(tn+fp)*(tn+fn))))"
   ]
  }
 ],
 "metadata": {
  "kernelspec": {
   "display_name": "Python 3",
   "language": "python",
   "name": "python3"
  },
  "language_info": {
   "codemirror_mode": {
    "name": "ipython",
    "version": 3
   },
   "file_extension": ".py",
   "mimetype": "text/x-python",
   "name": "python",
   "nbconvert_exporter": "python",
   "pygments_lexer": "ipython3",
   "version": "3.7.4"
  }
 },
 "nbformat": 4,
 "nbformat_minor": 4
}
