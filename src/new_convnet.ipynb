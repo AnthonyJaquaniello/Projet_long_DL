{
 "cells": [
  {
   "cell_type": "code",
   "execution_count": 234,
   "metadata": {},
   "outputs": [],
   "source": [
    "import keras\n",
    "import sklearn\n",
    "import numpy as np\n",
    "from random import shuffle, sample\n",
    "from tensorflow import set_random_seed #idée de Malo\n",
    "from os import listdir\n",
    "from math import sqrt\n",
    "import sklearn.metrics as metrics\n",
    "import matplotlib.pyplot as plt"
   ]
  },
  {
   "cell_type": "code",
   "execution_count": 235,
   "metadata": {},
   "outputs": [],
   "source": [
    "set_random_seed(1000) #doit avoir la même seed que np.random.seed()\n",
    "PATH_DATA = \"/media/anthony/POULOP/deepdrug3d_voxel_data/\""
   ]
  },
  {
   "cell_type": "code",
   "execution_count": 247,
   "metadata": {},
   "outputs": [],
   "source": [
    "def metriques(predictions, y, k):\n",
    "    tp = 0\n",
    "    fp = 0\n",
    "    tn = 0\n",
    "    fn = 0\n",
    "    for i in range(predictions.shape[0]):        \n",
    "        if max(predictions[i]) == predictions[i,k] and y[i,k] == 1.0:\n",
    "            tp += 1\n",
    "        elif max(predictions[i]) == predictions[i,k] and y[i,k] != 1.0:\n",
    "            fp += 1\n",
    "        elif max(predictions[i]) != predictions[i,k] and y[i,k] != 1.0:\n",
    "            tn += 1\n",
    "        elif max(predictions[i]) != predictions[i,k] and y[i,k] == 1.0:\n",
    "            fn += 1\n",
    "    return tp*100/len(predictions), fp*100/len(predictions), tn*100/len(predictions), fn*100/len(predictions), (tp+tn)*100/(tp+tn+fp+fn), tp*100/(tp+fp), tn*100/(tn+fp), tp*100/(tp+fn), fp*100/(fp+tn), ((tn*tp)-(fp*fn))/sqrt((tp+fp)*(tp+fn)*(tn+fp)*(tn+fn))\n",
    "\n",
    "def roc(predictions, y, i, path):\n",
    "    preds = predictions[:,i]\n",
    "    fpr, tpr, threshold = metrics.roc_curve(y[:,i], preds)\n",
    "    roc_auc = metrics.auc(fpr, tpr)\n",
    "    plt.title('Roc curve')\n",
    "    plt.plot(fpr, tpr, 'b', label = 'AUC = %0.2f' % roc_auc)\n",
    "    plt.legend(loc = 'lower right')\n",
    "    plt.plot([0, 1], [0, 1],'r--')\n",
    "    plt.xlim([0, 1])\n",
    "    plt.ylim([0, 1])\n",
    "    plt.ylabel('Sensibility')\n",
    "    plt.xlabel('1-Specificity')\n",
    "    plt.xlabel\n",
    "    plt.savefig(path)\n",
    "    plt.show()\n",
    "\n",
    "def list_generator(file):\n",
    "    with open(file, \"r\") as filin:\n",
    "        liste = [\"{}.npy\".format(line[:-1]) for line in filin]\n",
    "    return liste\n",
    "\n",
    "def x_loader(path, nucleotid, heme, control, steroid, k_train, k_test):\n",
    "    all_pocket = listdir(path)\n",
    "    xtrain_id = sample(nucleotid, k_train) + sample(heme, k_train) + sample(control, k_train)\n",
    "    xtest_id = sample(nucleotid, k_test) + sample(heme, k_test) + sample(control, k_test) + sample(steroid, k_test)\n",
    "    shuffle(xtrain_id)\n",
    "    shuffle(xtest_id)\n",
    "    xtrain = np.empty((len(xtrain_id), 14, 32, 32, 32))\n",
    "    xtest = np.empty((len(xtest_id), 14, 32, 32, 32))\n",
    "    for i in range(len(xtrain_id)):\n",
    "        xtrain[i,:,:,:,:] = np.load(\"{}{}\".format(path,xtrain_id[i]))\n",
    "        if xtrain[i,:,:,:,:].shape == (1,14,32,32,32):\n",
    "            np.squeeze(xtrain[i,:,:,:,:])\n",
    "    for i in range(len(xtest_id)):\n",
    "        xtest[i,:,:,:,:] = np.load(\"{}{}\".format(path,xtest_id[i]))\n",
    "        if xtest[i,:,:,:,:].shape == (1,14,32,32,32):\n",
    "            np.squeeze(xtest[i,:,:,:,:])\n",
    "        \n",
    "    ytrain = y_loader(xtrain_id, nucleotid, heme, control, steroid)\n",
    "    ytest = y_loader(xtest_id, nucleotid, heme, control, steroid)\n",
    "    return xtrain, xtest, ytrain, ytest\n",
    "\n",
    "def y_loader(x_list, nucleotid, heme, control, steroid):\n",
    "    y = np.zeros((len(x_list),3))\n",
    "    for i in range(len(x_list)):\n",
    "        if x_list[i] in nucleotid:\n",
    "            y[i,0] = 1\n",
    "        elif x_list[i] in heme:\n",
    "            y[i,1] = 1\n",
    "        elif x_list[i] in control:\n",
    "            y[i,2] = 1\n",
    "    return y"
   ]
  },
  {
   "cell_type": "code",
   "execution_count": 239,
   "metadata": {},
   "outputs": [
    {
     "name": "stdout",
     "output_type": "stream",
     "text": [
      "1553\n",
      "596\n",
      "1946\n",
      "69\n",
      "4164\n",
      "4164\n"
     ]
    }
   ],
   "source": [
    "nucleotid = list_generator(\"nucleotide.list.txt\")\n",
    "heme = list_generator(\"heme.list.txt\")\n",
    "control = list_generator(\"control.list.txt\")\n",
    "steroid = list_generator(\"steroid.list.txt\")\n",
    "print(len(nucleotid))\n",
    "print(len(heme))\n",
    "print(len(control))\n",
    "print(len(steroid))\n",
    "print(len(nucleotid)+len(heme)+len(control)+len(steroid))\n",
    "print(len(listdir(PATH_DATA)))"
   ]
  },
  {
   "cell_type": "code",
   "execution_count": 240,
   "metadata": {},
   "outputs": [
    {
     "name": "stdout",
     "output_type": "stream",
     "text": [
      "(375, 14, 32, 32, 32)\n",
      "<class 'numpy.ndarray'>\n",
      "False\n",
      "(260, 14, 32, 32, 32)\n",
      "<class 'numpy.ndarray'>\n",
      "False\n",
      "(375, 3)\n",
      "(260, 3)\n"
     ]
    }
   ],
   "source": [
    "xtrain, xtest, ytrain, ytest = x_loader(PATH_DATA, nucleotid, heme, control, steroid, 125, 65)\n",
    "print(xtrain.shape)\n",
    "print(type(xtrain))\n",
    "print(True in np.isnan(xtrain))\n",
    "print(xtest.shape)\n",
    "print(type(xtest))\n",
    "print(True in np.isnan(xtest))\n",
    "print(ytrain.shape)\n",
    "print(ytest.shape)"
   ]
  },
  {
   "cell_type": "code",
   "execution_count": 241,
   "metadata": {},
   "outputs": [],
   "source": [
    "def jaqua_model(optim_perso):\n",
    "    input_layer = keras.Input(shape=(14, 32, 32, 32))\n",
    "    conv_1 = keras.layers.Conv3D(filters = 32, kernel_size = 5, activation = \"relu\",\n",
    "                                 data_format = \"channels_first\", padding = \"same\")(input_layer)\n",
    "    conv_2 = keras.layers.Conv3D(filters = 32, kernel_size = 3, activation = \"relu\",\n",
    "                                 data_format=\"channels_first\", padding=\"same\")(conv_1)\n",
    "    dropout_1 = keras.layers.Dropout(rate=0.4)(conv_2)\n",
    "    max_pooling_1 = keras.layers.MaxPooling3D(pool_size=(2,2,2), strides=None,padding=\"same\",\n",
    "                                              data_format=\"channels_first\")(dropout_1)\n",
    "    dropout_2 = keras.layers.Dropout(rate=0.4)(max_pooling_1)\n",
    "    flatten_1 = keras.layers.Flatten()(dropout_2)\n",
    "    dense_1 = keras.layers.Dense(units=100, activation=\"relu\")(flatten_1)\n",
    "    dropout_3 = keras.layers.Dropout(rate=0.4)(dense_1)\n",
    "    output_layer = keras.layers.Dense(units=3, activation=\"softmax\")(dropout_3)\n",
    "    notdeepdrug_model = keras.Model(inputs=input_layer,outputs=output_layer)\n",
    "    notdeepdrug_model.compile(optimizer= optim_perso, loss=\"categorical_crossentropy\",metrics=[\"accuracy\"])\n",
    "    return notdeepdrug_model"
   ]
  },
  {
   "cell_type": "code",
   "execution_count": 242,
   "metadata": {},
   "outputs": [
    {
     "name": "stdout",
     "output_type": "stream",
     "text": [
      "Train on 337 samples, validate on 38 samples\n",
      "Epoch 1/50\n",
      "337/337 [==============================] - 146s 434ms/step - loss: 1.4277 - accuracy: 0.3798 - val_loss: 1.1492 - val_accuracy: 0.3684\n",
      "\n",
      "Epoch 00001: val_loss improved from inf to 1.14924, saving model to ../results/my_model_28_10_1.h5\n",
      "Epoch 2/50\n",
      "337/337 [==============================] - 144s 427ms/step - loss: 1.2200 - accuracy: 0.3769 - val_loss: 1.1057 - val_accuracy: 0.2895\n",
      "\n",
      "Epoch 00002: val_loss improved from 1.14924 to 1.10567, saving model to ../results/my_model_28_10_1.h5\n",
      "Epoch 3/50\n",
      "337/337 [==============================] - 147s 435ms/step - loss: 1.1135 - accuracy: 0.3680 - val_loss: 1.0848 - val_accuracy: 0.5263\n",
      "\n",
      "Epoch 00003: val_loss improved from 1.10567 to 1.08481, saving model to ../results/my_model_28_10_1.h5\n",
      "Epoch 4/50\n",
      "337/337 [==============================] - 147s 438ms/step - loss: 1.0934 - accuracy: 0.3828 - val_loss: 1.0880 - val_accuracy: 0.3421\n",
      "\n",
      "Epoch 00004: val_loss did not improve from 1.08481\n",
      "Epoch 5/50\n",
      "337/337 [==============================] - 151s 449ms/step - loss: 1.0984 - accuracy: 0.3650 - val_loss: 1.0849 - val_accuracy: 0.5000\n",
      "\n",
      "Epoch 00005: val_loss did not improve from 1.08481\n",
      "Epoch 6/50\n",
      "337/337 [==============================] - 148s 438ms/step - loss: 1.0390 - accuracy: 0.4807 - val_loss: 1.0710 - val_accuracy: 0.3158\n",
      "\n",
      "Epoch 00006: val_loss improved from 1.08481 to 1.07095, saving model to ../results/my_model_28_10_1.h5\n",
      "Epoch 7/50\n",
      "337/337 [==============================] - 146s 432ms/step - loss: 1.0687 - accuracy: 0.4510 - val_loss: 1.0674 - val_accuracy: 0.4737\n",
      "\n",
      "Epoch 00007: val_loss improved from 1.07095 to 1.06736, saving model to ../results/my_model_28_10_1.h5\n",
      "Epoch 8/50\n",
      "337/337 [==============================] - 146s 434ms/step - loss: 1.0228 - accuracy: 0.5015 - val_loss: 1.0399 - val_accuracy: 0.4474\n",
      "\n",
      "Epoch 00008: val_loss improved from 1.06736 to 1.03987, saving model to ../results/my_model_28_10_1.h5\n",
      "Epoch 9/50\n",
      "337/337 [==============================] - 145s 430ms/step - loss: 0.9800 - accuracy: 0.5282 - val_loss: 1.0047 - val_accuracy: 0.6316\n",
      "\n",
      "Epoch 00009: val_loss improved from 1.03987 to 1.00474, saving model to ../results/my_model_28_10_1.h5\n",
      "Epoch 10/50\n",
      "337/337 [==============================] - 146s 432ms/step - loss: 1.0197 - accuracy: 0.4777 - val_loss: 0.9828 - val_accuracy: 0.7105\n",
      "\n",
      "Epoch 00010: val_loss improved from 1.00474 to 0.98281, saving model to ../results/my_model_28_10_1.h5\n",
      "Epoch 11/50\n",
      "337/337 [==============================] - 146s 433ms/step - loss: 0.9446 - accuracy: 0.5786 - val_loss: 1.0456 - val_accuracy: 0.2895\n",
      "\n",
      "Epoch 00011: val_loss did not improve from 0.98281\n",
      "Epoch 12/50\n",
      "337/337 [==============================] - 146s 434ms/step - loss: 0.9182 - accuracy: 0.5579 - val_loss: 0.9530 - val_accuracy: 0.6579\n",
      "\n",
      "Epoch 00012: val_loss improved from 0.98281 to 0.95296, saving model to ../results/my_model_28_10_1.h5\n",
      "Epoch 13/50\n",
      "337/337 [==============================] - 146s 433ms/step - loss: 0.8318 - accuracy: 0.6647 - val_loss: 0.9477 - val_accuracy: 0.6053\n",
      "\n",
      "Epoch 00013: val_loss improved from 0.95296 to 0.94771, saving model to ../results/my_model_28_10_1.h5\n",
      "Epoch 14/50\n",
      "337/337 [==============================] - 146s 432ms/step - loss: 0.8045 - accuracy: 0.6499 - val_loss: 0.8980 - val_accuracy: 0.6842\n",
      "\n",
      "Epoch 00014: val_loss improved from 0.94771 to 0.89800, saving model to ../results/my_model_28_10_1.h5\n",
      "Epoch 15/50\n",
      "337/337 [==============================] - 147s 436ms/step - loss: 0.8022 - accuracy: 0.6499 - val_loss: 0.8506 - val_accuracy: 0.6842\n",
      "\n",
      "Epoch 00015: val_loss improved from 0.89800 to 0.85059, saving model to ../results/my_model_28_10_1.h5\n",
      "Epoch 16/50\n",
      "337/337 [==============================] - 146s 433ms/step - loss: 0.6725 - accuracy: 0.7567 - val_loss: 0.8860 - val_accuracy: 0.6316\n",
      "\n",
      "Epoch 00016: val_loss did not improve from 0.85059\n",
      "Epoch 17/50\n",
      "337/337 [==============================] - 146s 433ms/step - loss: 0.7197 - accuracy: 0.6766 - val_loss: 0.8152 - val_accuracy: 0.7895\n",
      "\n",
      "Epoch 00017: val_loss improved from 0.85059 to 0.81517, saving model to ../results/my_model_28_10_1.h5\n",
      "Epoch 18/50\n",
      "337/337 [==============================] - 148s 439ms/step - loss: 0.6354 - accuracy: 0.7774 - val_loss: 0.8134 - val_accuracy: 0.7105\n",
      "\n",
      "Epoch 00018: val_loss improved from 0.81517 to 0.81340, saving model to ../results/my_model_28_10_1.h5\n",
      "Epoch 19/50\n",
      "337/337 [==============================] - 148s 439ms/step - loss: 0.5808 - accuracy: 0.7864 - val_loss: 0.7655 - val_accuracy: 0.7105\n",
      "\n",
      "Epoch 00019: val_loss improved from 0.81340 to 0.76545, saving model to ../results/my_model_28_10_1.h5\n",
      "Epoch 20/50\n",
      "337/337 [==============================] - 147s 437ms/step - loss: 0.5584 - accuracy: 0.7953 - val_loss: 0.8513 - val_accuracy: 0.6053\n",
      "\n",
      "Epoch 00020: val_loss did not improve from 0.76545\n",
      "Epoch 21/50\n",
      "337/337 [==============================] - 146s 434ms/step - loss: 0.5343 - accuracy: 0.7982 - val_loss: 0.7161 - val_accuracy: 0.8158\n",
      "\n",
      "Epoch 00021: val_loss improved from 0.76545 to 0.71610, saving model to ../results/my_model_28_10_1.h5\n",
      "Epoch 22/50\n",
      "337/337 [==============================] - 161s 477ms/step - loss: 0.5059 - accuracy: 0.8042 - val_loss: 0.7201 - val_accuracy: 0.7105\n",
      "\n",
      "Epoch 00022: val_loss did not improve from 0.71610\n",
      "Epoch 23/50\n",
      "337/337 [==============================] - 213s 632ms/step - loss: 0.4633 - accuracy: 0.8516 - val_loss: 0.7450 - val_accuracy: 0.6579\n",
      "\n",
      "Epoch 00023: val_loss did not improve from 0.71610\n",
      "Epoch 24/50\n",
      "337/337 [==============================] - 202s 600ms/step - loss: 0.4419 - accuracy: 0.8546 - val_loss: 0.6713 - val_accuracy: 0.6842\n",
      "\n",
      "Epoch 00024: val_loss improved from 0.71610 to 0.67133, saving model to ../results/my_model_28_10_1.h5\n",
      "Epoch 25/50\n",
      "337/337 [==============================] - 175s 520ms/step - loss: 0.3852 - accuracy: 0.8576 - val_loss: 0.6720 - val_accuracy: 0.6842\n",
      "\n",
      "Epoch 00025: val_loss did not improve from 0.67133\n",
      "Epoch 26/50\n",
      "337/337 [==============================] - 204s 604ms/step - loss: 0.3788 - accuracy: 0.8783 - val_loss: 0.7408 - val_accuracy: 0.6579\n",
      "\n",
      "Epoch 00026: val_loss did not improve from 0.67133\n",
      "Epoch 27/50\n",
      "337/337 [==============================] - 181s 537ms/step - loss: 0.4107 - accuracy: 0.8427 - val_loss: 0.5776 - val_accuracy: 0.7895\n",
      "\n",
      "Epoch 00027: val_loss improved from 0.67133 to 0.57760, saving model to ../results/my_model_28_10_1.h5\n",
      "Epoch 28/50\n",
      "337/337 [==============================] - 197s 585ms/step - loss: 0.3684 - accuracy: 0.8783 - val_loss: 0.7141 - val_accuracy: 0.6579\n",
      "\n",
      "Epoch 00028: val_loss did not improve from 0.57760\n",
      "Epoch 29/50\n",
      "337/337 [==============================] - 192s 569ms/step - loss: 0.3642 - accuracy: 0.8902 - val_loss: 0.6476 - val_accuracy: 0.6579\n",
      "\n",
      "Epoch 00029: val_loss did not improve from 0.57760\n",
      "Epoch 30/50\n",
      "337/337 [==============================] - 170s 506ms/step - loss: 0.3271 - accuracy: 0.9021 - val_loss: 0.5357 - val_accuracy: 0.8684\n",
      "\n",
      "Epoch 00030: val_loss improved from 0.57760 to 0.53565, saving model to ../results/my_model_28_10_1.h5\n",
      "Epoch 31/50\n",
      "337/337 [==============================] - 164s 486ms/step - loss: 0.3052 - accuracy: 0.9347 - val_loss: 0.5284 - val_accuracy: 0.8684\n",
      "\n",
      "Epoch 00031: val_loss improved from 0.53565 to 0.52841, saving model to ../results/my_model_28_10_1.h5\n",
      "Epoch 32/50\n",
      "337/337 [==============================] - 194s 575ms/step - loss: 0.2708 - accuracy: 0.9258 - val_loss: 0.5890 - val_accuracy: 0.7895\n",
      "\n",
      "Epoch 00032: val_loss did not improve from 0.52841\n",
      "Epoch 33/50\n",
      "337/337 [==============================] - 202s 600ms/step - loss: 0.2605 - accuracy: 0.9258 - val_loss: 0.5511 - val_accuracy: 0.7895\n",
      "\n",
      "Epoch 00033: val_loss did not improve from 0.52841\n",
      "Epoch 34/50\n",
      "337/337 [==============================] - 207s 614ms/step - loss: 0.2437 - accuracy: 0.9436 - val_loss: 0.4838 - val_accuracy: 0.8421\n",
      "\n",
      "Epoch 00034: val_loss improved from 0.52841 to 0.48376, saving model to ../results/my_model_28_10_1.h5\n",
      "Epoch 35/50\n",
      "337/337 [==============================] - 191s 567ms/step - loss: 0.2709 - accuracy: 0.9139 - val_loss: 0.5590 - val_accuracy: 0.7632\n",
      "\n",
      "Epoch 00035: val_loss did not improve from 0.48376\n",
      "Epoch 36/50\n",
      "337/337 [==============================] - 185s 549ms/step - loss: 0.2417 - accuracy: 0.9436 - val_loss: 0.6231 - val_accuracy: 0.7105\n",
      "\n",
      "Epoch 00036: val_loss did not improve from 0.48376\n",
      "Epoch 37/50\n",
      "337/337 [==============================] - 153s 455ms/step - loss: 0.2149 - accuracy: 0.9466 - val_loss: 0.5321 - val_accuracy: 0.7895\n",
      "\n",
      "Epoch 00037: val_loss did not improve from 0.48376\n",
      "Epoch 38/50\n",
      "337/337 [==============================] - 154s 457ms/step - loss: 0.1953 - accuracy: 0.9555 - val_loss: 0.5626 - val_accuracy: 0.7368\n",
      "\n",
      "Epoch 00038: val_loss did not improve from 0.48376\n",
      "Epoch 39/50\n",
      "337/337 [==============================] - 153s 455ms/step - loss: 0.1737 - accuracy: 0.9733 - val_loss: 0.5040 - val_accuracy: 0.7368\n",
      "\n",
      "Epoch 00039: val_loss did not improve from 0.48376\n",
      "Epoch 40/50\n",
      "337/337 [==============================] - 155s 459ms/step - loss: 0.1857 - accuracy: 0.9585 - val_loss: 0.5272 - val_accuracy: 0.7895\n",
      "\n",
      "Epoch 00040: val_loss did not improve from 0.48376\n",
      "Epoch 41/50\n",
      "337/337 [==============================] - 154s 458ms/step - loss: 0.1688 - accuracy: 0.9585 - val_loss: 0.4548 - val_accuracy: 0.8947\n",
      "\n",
      "Epoch 00041: val_loss improved from 0.48376 to 0.45483, saving model to ../results/my_model_28_10_1.h5\n",
      "Epoch 42/50\n",
      "337/337 [==============================] - 154s 456ms/step - loss: 0.1859 - accuracy: 0.9644 - val_loss: 0.4936 - val_accuracy: 0.8421\n",
      "\n",
      "Epoch 00042: val_loss did not improve from 0.45483\n",
      "Epoch 43/50\n",
      "337/337 [==============================] - 153s 455ms/step - loss: 0.1635 - accuracy: 0.9644 - val_loss: 0.6423 - val_accuracy: 0.6842\n",
      "\n",
      "Epoch 00043: val_loss did not improve from 0.45483\n",
      "Epoch 44/50\n",
      "337/337 [==============================] - 154s 456ms/step - loss: 0.2050 - accuracy: 0.9377 - val_loss: 0.4701 - val_accuracy: 0.7368\n",
      "\n",
      "Epoch 00044: val_loss did not improve from 0.45483\n",
      "Epoch 45/50\n",
      "337/337 [==============================] - 153s 455ms/step - loss: 0.1506 - accuracy: 0.9644 - val_loss: 0.5439 - val_accuracy: 0.7105\n",
      "\n",
      "Epoch 00045: val_loss did not improve from 0.45483\n",
      "Epoch 46/50\n",
      "337/337 [==============================] - 154s 456ms/step - loss: 0.1488 - accuracy: 0.9733 - val_loss: 0.4734 - val_accuracy: 0.8684\n",
      "\n",
      "Epoch 00046: val_loss did not improve from 0.45483\n",
      "Epoch 47/50\n",
      "337/337 [==============================] - 153s 455ms/step - loss: 0.1280 - accuracy: 0.9703 - val_loss: 0.4567 - val_accuracy: 0.8421\n",
      "\n",
      "Epoch 00047: val_loss did not improve from 0.45483\n",
      "Epoch 48/50\n",
      "337/337 [==============================] - 154s 456ms/step - loss: 0.1309 - accuracy: 0.9733 - val_loss: 0.3920 - val_accuracy: 0.8421\n",
      "\n",
      "Epoch 00048: val_loss improved from 0.45483 to 0.39198, saving model to ../results/my_model_28_10_1.h5\n",
      "Epoch 49/50\n",
      "337/337 [==============================] - 157s 467ms/step - loss: 0.1482 - accuracy: 0.9644 - val_loss: 0.5125 - val_accuracy: 0.7368\n",
      "\n",
      "Epoch 00049: val_loss did not improve from 0.39198\n",
      "Epoch 50/50\n",
      "337/337 [==============================] - 154s 456ms/step - loss: 0.1360 - accuracy: 0.9763 - val_loss: 0.4583 - val_accuracy: 0.7895\n",
      "\n",
      "Epoch 00050: val_loss did not improve from 0.39198\n",
      "260/260 [==============================] - 31s 119ms/step\n",
      "375/375 [==============================] - 45s 120ms/step\n",
      "Test evaluation: [0.3979435975735004, 0.642307698726654]\n",
      "Train evaluation: [0.18902964194615682, 0.9733333587646484]\n"
     ]
    }
   ],
   "source": [
    "np.random.seed(1000)\n",
    "optim_perso = keras.optimizers.Adam(learning_rate = 0.00001)\n",
    "my_model = jaqua_model(optim_perso)\n",
    "best_model_path = \"../results/my_model_28_10_1\"+\".h5\"\n",
    "best_model = keras.callbacks.ModelCheckpoint(filepath=best_model_path,mode = \"min\", monitor = \"val_loss\", verbose = 2, save_best_only=True)\n",
    "my_model.fit(xtrain,ytrain,batch_size=20,epochs=50,validation_split=0.10,shuffle=True, callbacks = [best_model])\n",
    "test_evaluation = my_model.evaluate(xtest, ytest, batch_size = 20)\n",
    "train_evaluation = my_model.evaluate(xtrain, ytrain, batch_size = 20)\n",
    "print(\"Test evaluation: {}\".format(test_evaluation))\n",
    "print(\"Train evaluation: {}\".format(train_evaluation))\n",
    "test_predictions = my_model.predict(xtest, batch_size = 20)\n",
    "train_predictions = my_model.predict(xtrain, batch_size = 20)"
   ]
  },
  {
   "cell_type": "code",
   "execution_count": 48,
   "metadata": {},
   "outputs": [
    {
     "name": "stdout",
     "output_type": "stream",
     "text": [
      "100/100 [==============================] - 12s 124ms/step\n",
      "[0.8130654573440552, 0.5600000023841858]\n"
     ]
    }
   ],
   "source": [
    "fav_model = keras.models.load_model(\"../results/my_model.h5\")\n",
    "fav_test_evaluation = fav_model.evaluate(xtest, ytest, batch_size = 20)\n",
    "fav_train_evaluation = fav_model.evaluate(xtrain, ytrain, batch_size = 20)\n",
    "print(fav_test_evaluation)\n",
    "print(fav_train_evaluation)\n",
    "fav_predictions = fav_model.predict(xtest, batch_size = 20)"
   ]
  },
  {
   "cell_type": "code",
   "execution_count": 243,
   "metadata": {},
   "outputs": [
    {
     "data": {
      "image/png": "[encoded data removed]",
      "text/plain": [
       "<Figure size 432x288 with 1 Axes>"
      ]
     },
     "metadata": {
      "needs_background": "light"
     },
     "output_type": "display_data"
    }
   ],
   "source": [
    "#nucléotides train\n",
    "roc(train_predictions, ytrain, 0)"
   ]
  },
  {
   "cell_type": "code",
   "execution_count": 244,
   "metadata": {},
   "outputs": [
    {
     "data": {
      "image/png": "[encoded data removed]",
      "text/plain": [
       "<Figure size 432x288 with 1 Axes>"
      ]
     },
     "metadata": {
      "needs_background": "light"
     },
     "output_type": "display_data"
    }
   ],
   "source": [
    "#hème train\n",
    "roc(train_predictions, ytrain, 1)"
   ]
  },
  {
   "cell_type": "code",
   "execution_count": 248,
   "metadata": {},
   "outputs": [
    {
     "data": {
      "image/png": "[encoded data removed]",
      "text/plain": [
       "<Figure size 432x288 with 1 Axes>"
      ]
     },
     "metadata": {
      "needs_background": "light"
     },
     "output_type": "display_data"
    }
   ],
   "source": [
    "#nucléotide test\n",
    "roc(test_predictions, ytest, 0, \"../results/roc_nt_test\")"
   ]
  },
  {
   "cell_type": "code",
   "execution_count": 249,
   "metadata": {},
   "outputs": [
    {
     "data": {
      "image/png": "[encoded data removed]",
      "text/plain": [
       "<Figure size 432x288 with 1 Axes>"
      ]
     },
     "metadata": {
      "needs_background": "light"
     },
     "output_type": "display_data"
    }
   ],
   "source": [
    "#hèmes test\n",
    "roc(test_predictions, ytest, 1, \"../results/roc_hm_test\")"
   ]
  },
  {
   "cell_type": "markdown",
   "metadata": {},
   "source": [
    "Train heme:"
   ]
  },
  {
   "cell_type": "code",
   "execution_count": 250,
   "metadata": {},
   "outputs": [
    {
     "name": "stdout",
     "output_type": "stream",
     "text": [
      "TP:32.27%\n",
      "FP:1.07%\n",
      "TN:65.60\n",
      "FN:1.07\n",
      "ACC = 97.87%\n",
      "PPV = 96.80%\n",
      "TNR = 98.40%\n",
      "TPR = 96.80%\n",
      "FPR = 1.60%\n",
      "MCC = 0.95\n"
     ]
    }
   ],
   "source": [
    "tp, fp, tn, fn, acc, ppv, tnr, tpr, fpr, mcc = metriques(train_predictions, ytrain, 1)\n",
    "print(\"TP:{:.2f}%\".format(tp))\n",
    "print(\"FP:{:.2f}%\".format(fp))\n",
    "print(\"TN:{:.2f}\".format(tn))\n",
    "print(\"FN:{:.2f}\".format(fn))\n",
    "print(\"ACC = {:.2f}%\".format(acc))\n",
    "print(\"PPV = {:.2f}%\".format(ppv))\n",
    "print(\"TNR = {:.2f}%\".format(tnr))\n",
    "print(\"TPR = {:.2f}%\".format(tpr))\n",
    "print(\"FPR = {:.2f}%\".format(fpr))\n",
    "print(\"MCC = {:.2f}\".format(mcc))"
   ]
  },
  {
   "cell_type": "markdown",
   "metadata": {},
   "source": [
    "Train nucleotides:"
   ]
  },
  {
   "cell_type": "code",
   "execution_count": 251,
   "metadata": {},
   "outputs": [
    {
     "name": "stdout",
     "output_type": "stream",
     "text": [
      "TP:32.80%\n",
      "FP:1.33%\n",
      "TN:65.33\n",
      "FN:0.53\n",
      "ACC = 98.13%\n",
      "PPV = 96.09%\n",
      "TNR = 98.00%\n",
      "TPR = 98.40%\n",
      "FPR = 2.00%\n",
      "MCC = 0.96\n"
     ]
    }
   ],
   "source": [
    "tp, fp, tn, fn, acc, ppv, tnr, tpr, fpr, mcc = metriques(train_predictions, ytrain, 0)\n",
    "print(\"TP:{:.2f}%\".format(tp))\n",
    "print(\"FP:{:.2f}%\".format(fp))\n",
    "print(\"TN:{:.2f}\".format(tn))\n",
    "print(\"FN:{:.2f}\".format(fn))\n",
    "print(\"ACC = {:.2f}%\".format(acc))\n",
    "print(\"PPV = {:.2f}%\".format(ppv))\n",
    "print(\"TNR = {:.2f}%\".format(tnr))\n",
    "print(\"TPR = {:.2f}%\".format(tpr))\n",
    "print(\"FPR = {:.2f}%\".format(fpr))\n",
    "print(\"MCC = {:.2f}\".format(mcc))"
   ]
  },
  {
   "cell_type": "markdown",
   "metadata": {},
   "source": [
    "Test heme:"
   ]
  },
  {
   "cell_type": "code",
   "execution_count": 252,
   "metadata": {},
   "outputs": [
    {
     "name": "stdout",
     "output_type": "stream",
     "text": [
      "TP:20.38%\n",
      "FP:10.38%\n",
      "TN:64.62\n",
      "FN:4.62\n",
      "ACC = 85.00%\n",
      "PPV = 66.25%\n",
      "TNR = 86.15%\n",
      "TPR = 81.54%\n",
      "FPR = 13.85%\n",
      "MCC = 0.64\n"
     ]
    }
   ],
   "source": [
    "tp, fp, tn, fn, acc, ppv, tnr, tpr, fpr, mcc = metriques(test_predictions, ytest, 1)\n",
    "print(\"TP:{:.2f}%\".format(tp))\n",
    "print(\"FP:{:.2f}%\".format(fp))\n",
    "print(\"TN:{:.2f}\".format(tn))\n",
    "print(\"FN:{:.2f}\".format(fn))\n",
    "print(\"ACC = {:.2f}%\".format(acc))\n",
    "print(\"PPV = {:.2f}%\".format(ppv))\n",
    "print(\"TNR = {:.2f}%\".format(tnr))\n",
    "print(\"TPR = {:.2f}%\".format(tpr))\n",
    "print(\"FPR = {:.2f}%\".format(fpr))\n",
    "print(\"MCC = {:.2f}\".format(mcc))"
   ]
  },
  {
   "cell_type": "markdown",
   "metadata": {},
   "source": [
    "Test nucléotides:"
   ]
  },
  {
   "cell_type": "code",
   "execution_count": 253,
   "metadata": {},
   "outputs": [
    {
     "name": "stdout",
     "output_type": "stream",
     "text": [
      "TP:19.62%\n",
      "FP:10.38%\n",
      "TN:64.62\n",
      "FN:5.38\n",
      "ACC = 84.23%\n",
      "PPV = 65.38%\n",
      "TNR = 86.15%\n",
      "TPR = 78.46%\n",
      "FPR = 13.85%\n",
      "MCC = 0.61\n"
     ]
    }
   ],
   "source": [
    "tp, fp, tn, fn, acc, ppv, tnr, tpr, fpr, mcc = metriques(test_predictions, ytest, 0)\n",
    "print(\"TP:{:.2f}%\".format(tp))\n",
    "print(\"FP:{:.2f}%\".format(fp))\n",
    "print(\"TN:{:.2f}\".format(tn))\n",
    "print(\"FN:{:.2f}\".format(fn))\n",
    "print(\"ACC = {:.2f}%\".format(acc))\n",
    "print(\"PPV = {:.2f}%\".format(ppv))\n",
    "print(\"TNR = {:.2f}%\".format(tnr))\n",
    "print(\"TPR = {:.2f}%\".format(tpr))\n",
    "print(\"FPR = {:.2f}%\".format(fpr))\n",
    "print(\"MCC = {:.2f}\".format(mcc))"
   ]
  },
  {
   "cell_type": "code",
   "execution_count": null,
   "metadata": {},
   "outputs": [],
   "source": []
  },
  {
   "cell_type": "code",
   "execution_count": 256,
   "metadata": {},
   "outputs": [],
   "source": [
    "sensi = []\n",
    "speci = []\n",
    "for s in np.arange(0.0,1.0,0.025):\n",
    "    tp = 0\n",
    "    fn = 0\n",
    "    for i in range(len(test_predictions)):\n",
    "        if test_predictions[i,1] >= s:\n",
    "            if ytest[i,1] == 1.0 and test_predictions[i,1] == max(test_predictions[i,:]):\n",
    "                tp += 1\n",
    "            elif ytest[i,1] != 1.0 and test_predictions[i,1] == max(test_predictions[i,:]):\n",
    "                fp += 1\n",
    "        else:\n",
    "            if ytest[i,1] == 1.0 and test_predictions[i,1] != max(test_predictions[i,:]):\n",
    "                fn += 1\n",
    "            elif ytest[i,1] != 1.0 and test_predictions[i,1] != max(test_predictions[i,:]):\n",
    "                tn += 1\n",
    "    sensi.append(tp/(tp+fn))\n",
    "    speci.append(tn/(tn+fp))\n",
    "speci = np.array(speci)\n",
    "speci = 1 -speci"
   ]
  },
  {
   "cell_type": "code",
   "execution_count": 257,
   "metadata": {},
   "outputs": [
    {
     "data": {
      "text/plain": [
       "[<matplotlib.lines.Line2D at 0x7fe66629f310>]"
      ]
     },
     "execution_count": 257,
     "metadata": {},
     "output_type": "execute_result"
    },
    {
     "data": {
      "image/png": "[encoded data removed]",
      "text/plain": [
       "<Figure size 432x288 with 1 Axes>"
      ]
     },
     "metadata": {
      "needs_background": "light"
     },
     "output_type": "display_data"
    }
   ],
   "source": [
    "plt.plot(list(speci), sensi)"
   ]
  },
  {
   "cell_type": "code",
   "execution_count": null,
   "metadata": {},
   "outputs": [],
   "source": []
  }
 ],
 "metadata": {
  "kernelspec": {
   "display_name": "Python 3",
   "language": "python",
   "name": "python3"
  },
  "language_info": {
   "codemirror_mode": {
    "name": "ipython",
    "version": 3
   },
   "file_extension": ".py",
   "mimetype": "text/x-python",
   "name": "python",
   "nbconvert_exporter": "python",
   "pygments_lexer": "ipython3",
   "version": "3.7.4"
  }
 },
 "nbformat": 4,
 "nbformat_minor": 4
}
