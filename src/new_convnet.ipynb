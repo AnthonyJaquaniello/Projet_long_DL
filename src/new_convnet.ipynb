{
 "cells": [
  {
   "cell_type": "code",
   "execution_count": null,
   "metadata": {},
   "outputs": [],
   "source": [
    "import keras\n",
    "import sklearn\n",
    "import numpy as np\n",
    "from random import shuffle, sample\n",
    "from os import listdir"
   ]
  },
  {
   "cell_type": "code",
   "execution_count": 2,
   "metadata": {},
   "outputs": [],
   "source": [
    "PATH_DATA = \"/media/anthony/POULOP/deepdrug3d_voxel_data/\""
   ]
  },
  {
   "cell_type": "code",
   "execution_count": 3,
   "metadata": {},
   "outputs": [],
   "source": [
    "def list_generator(file):\n",
    "    with open(file, \"r\") as filin:\n",
    "        liste = [\"{}.npy\".format(line[:-1]) for line in filin]\n",
    "    return liste\n",
    "\n",
    "def x_loader(path, nucleotid, heme, control, steroid, k_train, k_test):\n",
    "    all_pocket = listdir(path)\n",
    "    xtrain_id = sample(nucleotid, k_train) + sample(heme, k_train) + sample(control, k_train)\n",
    "    xtest_id = sample(nucleotid, k_test) + sample(heme, k_test) + sample(control, k_test) + sample(steroid, k_test)\n",
    "    shuffle(xtrain_id)\n",
    "    shuffle(xtest_id)\n",
    "    xtrain = np.empty((len(xtrain_id), 14, 32, 32, 32))\n",
    "    xtest = np.empty((len(xtest_id), 14, 32, 32, 32))\n",
    "    for i in range(len(xtrain_id)):\n",
    "        xtrain[i,:,:,:,:] = np.load(\"{}{}\".format(path,xtrain_id[i]))\n",
    "        if xtrain[i,:,:,:,:].shape == (1,14,32,32,32):\n",
    "            np.squeeze(xtrain[i,:,:,:,:])\n",
    "    for i in range(len(xtest_id)):\n",
    "        xtest[i,:,:,:,:] = np.load(\"{}{}\".format(path,xtest_id[i]))\n",
    "        if xtest[i,:,:,:,:].shape == (1,14,32,32,32):\n",
    "            np.squeeze(xtest[i,:,:,:,:])\n",
    "        \n",
    "    ytrain = y_loader(xtrain_id, nucleotid, heme, control, steroid)\n",
    "    ytest = y_loader(xtest_id, nucleotid, heme, control, steroid)\n",
    "    return xtrain, xtest, ytrain, ytest\n",
    "\n",
    "def y_loader(x_list, nucleotid, heme, control, steroid):\n",
    "    y = np.zeros((len(x_list),3))\n",
    "    for i in range(len(x_list)):\n",
    "        if x_list[i] in nucleotid:\n",
    "            y[i,0] = 1\n",
    "        elif x_list[i] in heme:\n",
    "            y[i,1] = 1\n",
    "        elif x_list[i] in control:\n",
    "            y[i,2] = 1\n",
    "    return y"
   ]
  },
  {
   "cell_type": "code",
   "execution_count": 4,
   "metadata": {},
   "outputs": [
    {
     "name": "stdout",
     "output_type": "stream",
     "text": [
      "1553\n",
      "596\n",
      "1946\n",
      "69\n",
      "4164\n",
      "4164\n"
     ]
    }
   ],
   "source": [
    "nucleotid = list_generator(\"nucleotide.list.txt\")\n",
    "heme = list_generator(\"heme.list.txt\")\n",
    "control = list_generator(\"control.list.txt\")\n",
    "steroid = list_generator(\"steroid.list.txt\")\n",
    "print(len(nucleotid))\n",
    "print(len(heme))\n",
    "print(len(control))\n",
    "print(len(steroid))\n",
    "print(len(nucleotid)+len(heme)+len(control)+len(steroid))\n",
    "print(len(listdir(PATH_DATA)))"
   ]
  },
  {
   "cell_type": "code",
   "execution_count": 5,
   "metadata": {},
   "outputs": [
    {
     "name": "stdout",
     "output_type": "stream",
     "text": [
      "(225, 14, 32, 32, 32)\n",
      "<class 'numpy.ndarray'>\n",
      "False\n",
      "(100, 14, 32, 32, 32)\n",
      "<class 'numpy.ndarray'>\n",
      "False\n",
      "(225, 3)\n",
      "(100, 3)\n"
     ]
    }
   ],
   "source": [
    "xtrain, xtest, ytrain, ytest = x_loader(PATH_DATA, nucleotid, heme, control, steroid, 75, 25)\n",
    "print(xtrain.shape)\n",
    "print(type(xtrain))\n",
    "print(True in np.isnan(xtrain))\n",
    "print(xtest.shape)\n",
    "print(type(xtest))\n",
    "print(True in np.isnan(xtest))\n",
    "print(ytrain.shape)\n",
    "print(ytest.shape)"
   ]
  },
  {
   "cell_type": "code",
   "execution_count": 31,
   "metadata": {},
   "outputs": [],
   "source": [
    "def jaqua_model(ptim_perso):\n",
    "    input_layer = keras.Input(shape=(14, 32, 32, 32))\n",
    "    conv_1 = keras.layers.Conv3D(filters = 32, kernel_size = 5, activation = \"relu\",\n",
    "                                 data_format = \"channels_first\", padding = \"same\")(input_layer)\n",
    "    conv_2 = keras.layers.Conv3D(filters = 32, kernel_size = 3, activation = \"relu\",\n",
    "                                 data_format=\"channels_first\", padding=\"same\")(conv_1)\n",
    "    dropout_1 = keras.layers.Dropout(rate=0.4)(conv_2)\n",
    "    max_pooling_1 = keras.layers.MaxPooling3D(pool_size=(2,2,2), strides=None,padding=\"same\",\n",
    "                                              data_format=\"channels_first\")(dropout_1)\n",
    "    dropout_2 = keras.layers.Dropout(rate=0.4)(max_pooling_1)\n",
    "    flatten_1 = keras.layers.Flatten()(dropout_2)\n",
    "    dense_1 = keras.layers.Dense(units=100, activation=\"relu\")(flatten_1)\n",
    "    dropout_3 = keras.layers.Dropout(rate=0.4)(dense_1)\n",
    "    output_layer = keras.layers.Dense(units=3, activation=\"softmax\")(dropout_3)\n",
    "    notdeepdrug_model = keras.Model(inputs=input_layer,outputs=output_layer)\n",
    "    notdeepdrug_model.compile(optimizer= optim_perso, loss=\"categorical_crossentropy\",metrics=[\"accuracy\"])\n",
    "    return notdeepdrug_model"
   ]
  },
  {
   "cell_type": "code",
   "execution_count": 34,
   "metadata": {},
   "outputs": [
    {
     "name": "stdout",
     "output_type": "stream",
     "text": [
      "Train on 168 samples, validate on 57 samples\n",
      "Epoch 1/5\n",
      "168/168 [==============================] - 104s 618ms/step - loss: 1.7299 - accuracy: 0.3155 - val_loss: 1.1208 - val_accuracy: 0.3509\n",
      "\n",
      "Epoch 00001: val_accuracy improved from -inf to 0.35088, saving model to ../results/my_model.h5\n",
      "Epoch 2/5\n",
      "168/168 [==============================] - 79s 472ms/step - loss: 1.2860 - accuracy: 0.3988 - val_loss: 1.0882 - val_accuracy: 0.3509\n",
      "\n",
      "Epoch 00002: val_accuracy did not improve from 0.35088\n",
      "Epoch 3/5\n",
      "168/168 [==============================] - 80s 476ms/step - loss: 1.2234 - accuracy: 0.3393 - val_loss: 1.0999 - val_accuracy: 0.3158\n",
      "\n",
      "Epoch 00003: val_accuracy did not improve from 0.35088\n",
      "Epoch 4/5\n",
      "168/168 [==============================] - 87s 520ms/step - loss: 1.1279 - accuracy: 0.3750 - val_loss: 1.0909 - val_accuracy: 0.3684\n",
      "\n",
      "Epoch 00004: val_accuracy improved from 0.35088 to 0.36842, saving model to ../results/my_model.h5\n",
      "Epoch 5/5\n",
      "168/168 [==============================] - 99s 589ms/step - loss: 1.1243 - accuracy: 0.3393 - val_loss: 1.0919 - val_accuracy: 0.4386\n",
      "\n",
      "Epoch 00005: val_accuracy improved from 0.36842 to 0.43860, saving model to ../results/my_model.h5\n",
      "100/100 [==============================] - 12s 123ms/step\n",
      "[0.8130654573440552, 0.5600000023841858]\n"
     ]
    }
   ],
   "source": [
    "np.random.seed(1000)\n",
    "optim_perso = keras.optimizers.Adam(learning_rate = 0.00001)\n",
    "my_model = jaqua_model(optim_perso)\n",
    "best_model_path = \"../results/my_model\"+\".h5\"\n",
    "best_model = keras.callbacks.ModelCheckpoint(filepath=best_model_path,mode = \"max\", monitor = \"val_accuracy\", verbose = 2, save_best_only=True)\n",
    "my_model.fit(xtrain,ytrain,batch_size=20,epochs=5,validation_split=0.25,shuffle=True, callbacks = [best_model])\n",
    "evaluation = my_model.evaluate(xtest, ytest, batch_size = 20)\n",
    "print(evaluation)\n",
    "predictions = my_model.predict(xtest, batch_size = 20)"
   ]
  },
  {
   "cell_type": "code",
   "execution_count": 36,
   "metadata": {},
   "outputs": [
    {
     "name": "stdout",
     "output_type": "stream",
     "text": [
      "[[0.3423631  0.35035133 0.30728552]\n",
      " [0.347099   0.34037322 0.31252775]\n",
      " [0.3540826  0.32452077 0.32139656]\n",
      " [0.3555502  0.3241454  0.32030442]\n",
      " [0.3509929  0.32684445 0.32216263]\n",
      " [0.32650143 0.36269057 0.3108079 ]\n",
      " [0.33782145 0.34382588 0.3183527 ]\n",
      " [0.3501408  0.31928027 0.33057886]\n",
      " [0.35461816 0.3356486  0.30973333]\n",
      " [0.34138164 0.34915075 0.30946752]]\n"
     ]
    }
   ],
   "source": [
    "print(predictions[0:10])"
   ]
  },
  {
   "cell_type": "code",
   "execution_count": 48,
   "metadata": {},
   "outputs": [
    {
     "name": "stdout",
     "output_type": "stream",
     "text": [
      "100/100 [==============================] - 12s 124ms/step\n",
      "[0.8130654573440552, 0.5600000023841858]\n"
     ]
    }
   ],
   "source": [
    "fav_model = keras.models.load_model(\"../results/my_model.h5\")\n",
    "evaluation = fav_model.evaluate(xtest, ytest, batch_size = 20)\n",
    "print(evaluation)\n",
    "fav_predictions = fav_model.predict(xtest, batch_size = 20)"
   ]
  },
  {
   "cell_type": "code",
   "execution_count": 49,
   "metadata": {},
   "outputs": [
    {
     "data": {
      "image/png": "[encoded data removed]",
      "text/plain": [
       "<Figure size 432x288 with 1 Axes>"
      ]
     },
     "metadata": {
      "needs_background": "light"
     },
     "output_type": "display_data"
    }
   ],
   "source": [
    "import matplotlib.pyplot as plt\n",
    "import sklearn.metrics as metrics\n",
    "# calculate the fpr and tpr for all thresholds of the classification\n",
    "preds_nucleotid = predictions[:,0]\n",
    "fpr, tpr, threshold = metrics.roc_curve(ytest[:,0], preds_nucleotid)\n",
    "roc_auc = metrics.auc(fpr, tpr)\n",
    "plt.title('AUC nucleotids')\n",
    "plt.plot(fpr, tpr, 'b', label = 'AUC = %0.2f' % roc_auc)\n",
    "plt.legend(loc = 'lower right')\n",
    "plt.plot([0, 1], [0, 1],'r--')\n",
    "plt.xlim([0, 1])\n",
    "plt.ylim([0, 1])\n",
    "plt.ylabel('Sensibility')\n",
    "plt.xlabel('1-Specificity')\n",
    "plt.xlabel\n",
    "plt.show()"
   ]
  },
  {
   "cell_type": "code",
   "execution_count": 50,
   "metadata": {},
   "outputs": [
    {
     "data": {
      "image/png": "[encoded data removed]",
      "text/plain": [
       "<Figure size 432x288 with 1 Axes>"
      ]
     },
     "metadata": {
      "needs_background": "light"
     },
     "output_type": "display_data"
    }
   ],
   "source": [
    "import sklearn.metrics as metrics\n",
    "import matplotlib.pyplot as plt\n",
    "# calculate the fpr and tpr for all thresholds of the classification\n",
    "preds_heme = predictions[:,1]\n",
    "fpr, tpr, threshold = metrics.roc_curve(ytest[:,1], preds_heme)\n",
    "roc_auc = metrics.auc(fpr, tpr)\n",
    "plt.title('AUC heme')\n",
    "plt.plot(fpr, tpr, 'b', label = 'AUC = %0.2f' % roc_auc)\n",
    "plt.legend(loc = 'lower right')\n",
    "plt.plot([0, 1], [0, 1],'r--')\n",
    "plt.xlim([0, 1])\n",
    "plt.ylim([0, 1])\n",
    "plt.ylabel('Sensibility')\n",
    "plt.xlabel('1-Specificity')\n",
    "plt.xlabel\n",
    "plt.show()"
   ]
  },
  {
   "cell_type": "code",
   "execution_count": 57,
   "metadata": {},
   "outputs": [
    {
     "name": "stdout",
     "output_type": "stream",
     "text": [
      "TP:20.00%\n",
      "FP:41.00%\n",
      "TN:34.00\n",
      "FN:5.00\n",
      "ACC = 54.00%\n",
      "PPV = 32.79%\n",
      "TNR = 45.33%\n",
      "TPR = 80.00%\n",
      "FPR = 54.67%\n",
      "MCC = 0.22\n"
     ]
    }
   ],
   "source": [
    "#calcul des autres metrics pour nucleotid\n",
    "tp = 0\n",
    "fp = 0\n",
    "tn = 0\n",
    "fn = 0\n",
    "\n",
    "for i in range(predictions.shape[0]):        \n",
    "    if max(predictions[i]) == predictions[i,0] and ytest[i,0] == 1.0:\n",
    "        tp += 1\n",
    "    elif max(predictions[i]) == predictions[i,0] and ytest[i,0] != 1.0:\n",
    "        fp += 1\n",
    "    elif max(predictions[i]) != predictions[i,0] and ytest[i,0] != 1.0:\n",
    "        tn += 1\n",
    "    elif max(predictions[i]) != predictions[i,0] and ytest[i,0] == 1.0:\n",
    "        fn += 1\n",
    "        \n",
    "from math import sqrt\n",
    "\n",
    "print(\"TP:{:.2f}%\".format(tp*100/len(predictions)))\n",
    "print(\"FP:{:.2f}%\".format(fp*100/len(predictions)))\n",
    "print(\"TN:{:.2f}\".format(tn*100/len(predictions)))\n",
    "print(\"FN:{:.2f}\".format(fn*100/len(predictions)))\n",
    "print(\"ACC = {:.2f}%\".format((tp+tn)*100/(tp+tn+fp+fn)))\n",
    "print(\"PPV = {:.2f}%\".format(tp*100/(tp+fp)))\n",
    "print(\"TNR = {:.2f}%\".format(tn*100/(tn+fp)))\n",
    "print(\"TPR = {:.2f}%\".format(tp*100/(tp+fn)))\n",
    "print(\"FPR = {:.2f}%\".format(fp*100/(fp+tn)))\n",
    "print(\"MCC = {:.2f}\".format(((tn*tp)-(fp*fn))/sqrt((tp+fp)*(tp+fn)*(tn+fp)*(tn+fn))))"
   ]
  },
  {
   "cell_type": "code",
   "execution_count": 58,
   "metadata": {},
   "outputs": [
    {
     "name": "stdout",
     "output_type": "stream",
     "text": [
      "TP:17.00%\n",
      "FP:21.00%\n",
      "TN:54.00\n",
      "FN:8.00\n",
      "ACC = 71.00%\n",
      "PPV = 44.74%\n",
      "TNR = 72.00%\n",
      "TPR = 68.00%\n",
      "FPR = 28.00%\n",
      "MCC = 0.36\n"
     ]
    }
   ],
   "source": [
    "#calcul des autres metrics pour heme\n",
    "tp = 0\n",
    "fp = 0\n",
    "tn = 0\n",
    "fn = 0\n",
    "\n",
    "for i in range(predictions.shape[0]):        \n",
    "    if max(predictions[i]) == predictions[i,1] and ytest[i,1] == 1.0:\n",
    "        tp += 1\n",
    "    elif max(predictions[i]) == predictions[i,1] and ytest[i,1] != 1.0:\n",
    "        fp += 1\n",
    "    elif max(predictions[i]) != predictions[i,1] and ytest[i,1] != 1.0:\n",
    "        tn += 1\n",
    "    elif max(predictions[i]) != predictions[i,1] and ytest[i,1] == 1.0:\n",
    "        fn += 1\n",
    "        \n",
    "from math import sqrt\n",
    "\n",
    "print(\"TP:{:.2f}%\".format(tp*100/len(predictions)))\n",
    "print(\"FP:{:.2f}%\".format(fp*100/len(predictions)))\n",
    "print(\"TN:{:.2f}\".format(tn*100/len(predictions)))\n",
    "print(\"FN:{:.2f}\".format(fn*100/len(predictions)))\n",
    "print(\"ACC = {:.2f}%\".format((tp+tn)*100/(tp+tn+fp+fn)))\n",
    "print(\"PPV = {:.2f}%\".format(tp*100/(tp+fp)))\n",
    "print(\"TNR = {:.2f}%\".format(tn*100/(tn+fp)))\n",
    "print(\"TPR = {:.2f}%\".format(tp*100/(tp+fn)))\n",
    "print(\"FPR = {:.2f}%\".format(fp*100/(fp+tn)))\n",
    "print(\"MCC = {:.2f}\".format(((tn*tp)-(fp*fn))/sqrt((tp+fp)*(tp+fn)*(tn+fp)*(tn+fn))))"
   ]
  },
  {
   "cell_type": "code",
   "execution_count": null,
   "metadata": {},
   "outputs": [],
   "source": []
  }
 ],
 "metadata": {
  "kernelspec": {
   "display_name": "Python 3",
   "language": "python",
   "name": "python3"
  },
  "language_info": {
   "codemirror_mode": {
    "name": "ipython",
    "version": 3
   },
   "file_extension": ".py",
   "mimetype": "text/x-python",
   "name": "python",
   "nbconvert_exporter": "python",
   "pygments_lexer": "ipython3",
   "version": "3.7.4"
  }
 },
 "nbformat": 4,
 "nbformat_minor": 4
}
