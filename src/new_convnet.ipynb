{
 "cells": [
  {
   "cell_type": "code",
   "execution_count": 4,
   "metadata": {},
   "outputs": [
    {
     "name": "stderr",
     "output_type": "stream",
     "text": [
      "/home/sdv/m2bi/ajaquaniello/.conda/envs/deep_learning/lib/python3.7/site-packages/tensorboard/compat/tensorflow_stub/dtypes.py:541: FutureWarning: Passing (type, 1) or '1type' as a synonym of type is deprecated; in a future version of numpy, it will be understood as (type, (1,)) / '(1,)type'.\n",
      "  _np_qint8 = np.dtype([(\"qint8\", np.int8, 1)])\n",
      "/home/sdv/m2bi/ajaquaniello/.conda/envs/deep_learning/lib/python3.7/site-packages/tensorboard/compat/tensorflow_stub/dtypes.py:542: FutureWarning: Passing (type, 1) or '1type' as a synonym of type is deprecated; in a future version of numpy, it will be understood as (type, (1,)) / '(1,)type'.\n",
      "  _np_quint8 = np.dtype([(\"quint8\", np.uint8, 1)])\n",
      "/home/sdv/m2bi/ajaquaniello/.conda/envs/deep_learning/lib/python3.7/site-packages/tensorboard/compat/tensorflow_stub/dtypes.py:543: FutureWarning: Passing (type, 1) or '1type' as a synonym of type is deprecated; in a future version of numpy, it will be understood as (type, (1,)) / '(1,)type'.\n",
      "  _np_qint16 = np.dtype([(\"qint16\", np.int16, 1)])\n",
      "/home/sdv/m2bi/ajaquaniello/.conda/envs/deep_learning/lib/python3.7/site-packages/tensorboard/compat/tensorflow_stub/dtypes.py:544: FutureWarning: Passing (type, 1) or '1type' as a synonym of type is deprecated; in a future version of numpy, it will be understood as (type, (1,)) / '(1,)type'.\n",
      "  _np_quint16 = np.dtype([(\"quint16\", np.uint16, 1)])\n",
      "/home/sdv/m2bi/ajaquaniello/.conda/envs/deep_learning/lib/python3.7/site-packages/tensorboard/compat/tensorflow_stub/dtypes.py:545: FutureWarning: Passing (type, 1) or '1type' as a synonym of type is deprecated; in a future version of numpy, it will be understood as (type, (1,)) / '(1,)type'.\n",
      "  _np_qint32 = np.dtype([(\"qint32\", np.int32, 1)])\n",
      "/home/sdv/m2bi/ajaquaniello/.conda/envs/deep_learning/lib/python3.7/site-packages/tensorboard/compat/tensorflow_stub/dtypes.py:550: FutureWarning: Passing (type, 1) or '1type' as a synonym of type is deprecated; in a future version of numpy, it will be understood as (type, (1,)) / '(1,)type'.\n",
      "  np_resource = np.dtype([(\"resource\", np.ubyte, 1)])\n"
     ]
    }
   ],
   "source": [
    "import keras\n",
    "import sklearn\n",
    "import numpy as np\n",
    "from random import shuffle, sample\n",
    "from tensorflow import set_random_seed #idée de Malo\n",
    "from os import listdir\n",
    "from math import sqrt\n",
    "import sklearn.metrics as metrics\n",
    "import matplotlib.pyplot as plt"
   ]
  },
  {
   "cell_type": "code",
   "execution_count": 5,
   "metadata": {},
   "outputs": [],
   "source": [
    "set_random_seed(1000) #doit avoir la même seed que np.random.seed()\n",
    "PATH_DATA = \"/media/anthony/POULOP/deepdrug3d_voxel_data/\""
   ]
  },
  {
   "cell_type": "code",
   "execution_count": 3,
   "metadata": {},
   "outputs": [],
   "source": [
    "def metrics(predictions, y):\n",
    "    tp = 0\n",
    "    fp = 0\n",
    "    tn = 0\n",
    "    fn = 0\n",
    "    for i in range(predictions.shape[0]):        \n",
    "        if max(predictions[i]) == predictions[i,0] and y[i,0] == 1.0:\n",
    "            tp += 1\n",
    "        elif max(predictions[i]) == predictions[i,0] and y[i,0] != 1.0:\n",
    "            fp += 1\n",
    "        elif max(predictions[i]) != predictions[i,0] and y[i,0] != 1.0:\n",
    "            tn += 1\n",
    "        elif max(predictions[i]) != predictions[i,0] and y[i,0] == 1.0:\n",
    "            fn += 1\n",
    "    return tp*100/len(predictions), fp*100/len(predictions), tn*100/len(predictions), fn*100/len(predictions), (tp+tn)*100/(tp+tn+fp+fn), tp*100/(tp+fp), tn*100/(tn+fp), tp*100/(tp+fn), fp*100/(fp+tn), ((tn*tp)-(fp*fn))/sqrt((tp+fp)*(tp+fn)*(tn+fp)*(tn+fn))\n",
    "\n",
    "def roc_curve(predictions, y, i):\n",
    "    preds = predictions[:,i]\n",
    "    fpr, tpr, threshold = metrics.roc_curve(y[:,0], preds)\n",
    "    roc_auc = metrics.auc(fpr, tpr)\n",
    "    plt.title('Roc curve')\n",
    "    plt.plot(fpr, tpr, 'b', label = 'AUC = %0.2f' % roc_auc)\n",
    "    plt.legend(loc = 'lower right')\n",
    "    plt.plot([0, 1], [0, 1],'r--')\n",
    "    plt.xlim([0, 1])\n",
    "    plt.ylim([0, 1])\n",
    "    plt.ylabel('Sensibility')\n",
    "    plt.xlabel('1-Specificity')\n",
    "    plt.xlabel\n",
    "    plt.show()\n",
    "\n",
    "def list_generator(file):\n",
    "    with open(file, \"r\") as filin:\n",
    "        liste = [\"{}.npy\".format(line[:-1]) for line in filin]\n",
    "    return liste\n",
    "\n",
    "def x_loader(path, nucleotid, heme, control, steroid, k_train, k_test):\n",
    "    all_pocket = listdir(path)\n",
    "    xtrain_id = sample(nucleotid, k_train) + sample(heme, k_train) + sample(control, k_train)\n",
    "    xtest_id = sample(nucleotid, k_test) + sample(heme, k_test) + sample(control, k_test) + sample(steroid, k_test)\n",
    "    shuffle(xtrain_id)\n",
    "    shuffle(xtest_id)\n",
    "    xtrain = np.empty((len(xtrain_id), 14, 32, 32, 32))\n",
    "    xtest = np.empty((len(xtest_id), 14, 32, 32, 32))\n",
    "    for i in range(len(xtrain_id)):\n",
    "        xtrain[i,:,:,:,:] = np.load(\"{}{}\".format(path,xtrain_id[i]))\n",
    "        if xtrain[i,:,:,:,:].shape == (1,14,32,32,32):\n",
    "            np.squeeze(xtrain[i,:,:,:,:])\n",
    "    for i in range(len(xtest_id)):\n",
    "        xtest[i,:,:,:,:] = np.load(\"{}{}\".format(path,xtest_id[i]))\n",
    "        if xtest[i,:,:,:,:].shape == (1,14,32,32,32):\n",
    "            np.squeeze(xtest[i,:,:,:,:])\n",
    "        \n",
    "    ytrain = y_loader(xtrain_id, nucleotid, heme, control, steroid)\n",
    "    ytest = y_loader(xtest_id, nucleotid, heme, control, steroid)\n",
    "    return xtrain, xtest, ytrain, ytest\n",
    "\n",
    "def y_loader(x_list, nucleotid, heme, control, steroid):\n",
    "    y = np.zeros((len(x_list),3))\n",
    "    for i in range(len(x_list)):\n",
    "        if x_list[i] in nucleotid:\n",
    "            y[i,0] = 1\n",
    "        elif x_list[i] in heme:\n",
    "            y[i,1] = 1\n",
    "        elif x_list[i] in control:\n",
    "            y[i,2] = 1\n",
    "    return y"
   ]
  },
  {
   "cell_type": "code",
   "execution_count": 4,
   "metadata": {},
   "outputs": [
    {
     "name": "stdout",
     "output_type": "stream",
     "text": [
      "1553\n",
      "596\n",
      "1946\n",
      "69\n",
      "4164\n",
      "4164\n"
     ]
    }
   ],
   "source": [
    "nucleotid = list_generator(\"nucleotide.list.txt\")\n",
    "heme = list_generator(\"heme.list.txt\")\n",
    "control = list_generator(\"control.list.txt\")\n",
    "steroid = list_generator(\"steroid.list.txt\")\n",
    "print(len(nucleotid))\n",
    "print(len(heme))\n",
    "print(len(control))\n",
    "print(len(steroid))\n",
    "print(len(nucleotid)+len(heme)+len(control)+len(steroid))\n",
    "print(len(listdir(PATH_DATA)))"
   ]
  },
  {
   "cell_type": "code",
   "execution_count": 5,
   "metadata": {},
   "outputs": [
    {
     "name": "stdout",
     "output_type": "stream",
     "text": [
      "(225, 14, 32, 32, 32)\n",
      "<class 'numpy.ndarray'>\n",
      "False\n",
      "(100, 14, 32, 32, 32)\n",
      "<class 'numpy.ndarray'>\n",
      "False\n",
      "(225, 3)\n",
      "(100, 3)\n"
     ]
    }
   ],
   "source": [
    "xtrain, xtest, ytrain, ytest = x_loader(PATH_DATA, nucleotid, heme, control, steroid, 150, 65)\n",
    "print(xtrain.shape)\n",
    "print(type(xtrain))\n",
    "print(True in np.isnan(xtrain))\n",
    "print(xtest.shape)\n",
    "print(type(xtest))\n",
    "print(True in np.isnan(xtest))\n",
    "print(ytrain.shape)\n",
    "print(ytest.shape)"
   ]
  },
  {
   "cell_type": "code",
   "execution_count": 31,
   "metadata": {},
   "outputs": [],
   "source": [
    "def jaqua_model(optim_perso):\n",
    "    input_layer = keras.Input(shape=(14, 32, 32, 32))\n",
    "    conv_1 = keras.layers.Conv3D(filters = 32, kernel_size = 5, activation = \"relu\",\n",
    "                                 data_format = \"channels_first\", padding = \"same\")(input_layer)\n",
    "    conv_2 = keras.layers.Conv3D(filters = 32, kernel_size = 3, activation = \"relu\",\n",
    "                                 data_format=\"channels_first\", padding=\"same\")(conv_1)\n",
    "    dropout_1 = keras.layers.Dropout(rate=0.4)(conv_2)\n",
    "    max_pooling_1 = keras.layers.MaxPooling3D(pool_size=(2,2,2), strides=None,padding=\"same\",\n",
    "                                              data_format=\"channels_first\")(dropout_1)\n",
    "    dropout_2 = keras.layers.Dropout(rate=0.4)(max_pooling_1)\n",
    "    flatten_1 = keras.layers.Flatten()(dropout_2)\n",
    "    dense_1 = keras.layers.Dense(units=100, activation=\"relu\")(flatten_1)\n",
    "    dropout_3 = keras.layers.Dropout(rate=0.4)(dense_1)\n",
    "    output_layer = keras.layers.Dense(units=3, activation=\"softmax\")(dropout_3)\n",
    "    notdeepdrug_model = keras.Model(inputs=input_layer,outputs=output_layer)\n",
    "    notdeepdrug_model.compile(optimizer= optim_perso, loss=\"categorical_crossentropy\",metrics=[\"accuracy\"])\n",
    "    return notdeepdrug_model"
   ]
  },
  {
   "cell_type": "code",
   "execution_count": 34,
   "metadata": {},
   "outputs": [
    {
     "name": "stdout",
     "output_type": "stream",
     "text": [
      "Train on 168 samples, validate on 57 samples\n",
      "Epoch 1/5\n",
      "168/168 [==============================] - 104s 618ms/step - loss: 1.7299 - accuracy: 0.3155 - val_loss: 1.1208 - val_accuracy: 0.3509\n",
      "\n",
      "Epoch 00001: val_accuracy improved from -inf to 0.35088, saving model to ../results/my_model.h5\n",
      "Epoch 2/5\n",
      "168/168 [==============================] - 79s 472ms/step - loss: 1.2860 - accuracy: 0.3988 - val_loss: 1.0882 - val_accuracy: 0.3509\n",
      "\n",
      "Epoch 00002: val_accuracy did not improve from 0.35088\n",
      "Epoch 3/5\n",
      "168/168 [==============================] - 80s 476ms/step - loss: 1.2234 - accuracy: 0.3393 - val_loss: 1.0999 - val_accuracy: 0.3158\n",
      "\n",
      "Epoch 00003: val_accuracy did not improve from 0.35088\n",
      "Epoch 4/5\n",
      "168/168 [==============================] - 87s 520ms/step - loss: 1.1279 - accuracy: 0.3750 - val_loss: 1.0909 - val_accuracy: 0.3684\n",
      "\n",
      "Epoch 00004: val_accuracy improved from 0.35088 to 0.36842, saving model to ../results/my_model.h5\n",
      "Epoch 5/5\n",
      "168/168 [==============================] - 99s 589ms/step - loss: 1.1243 - accuracy: 0.3393 - val_loss: 1.0919 - val_accuracy: 0.4386\n",
      "\n",
      "Epoch 00005: val_accuracy improved from 0.36842 to 0.43860, saving model to ../results/my_model.h5\n",
      "100/100 [==============================] - 12s 123ms/step\n",
      "[0.8130654573440552, 0.5600000023841858]\n"
     ]
    }
   ],
   "source": [
    "np.random.seed(1000)\n",
    "optim_perso = keras.optimizers.Adam(learning_rate = 0.00001)\n",
    "my_model = jaqua_model(optim_perso)\n",
    "best_model_path = \"../results/my_model\"+\".h5\"\n",
    "best_model = keras.callbacks.ModelCheckpoint(filepath=best_model_path,mode = \"max\", monitor = \"val_loss\", verbose = 2, save_best_only=True)\n",
    "my_model.fit(xtrain,ytrain,batch_size=20,epochs=5,validation_split=0.25,shuffle=True, callbacks = [best_model])\n",
    "evaluation = my_model.evaluate(xtest, ytest, batch_size = 20)\n",
    "print(evaluation)\n",
    "test_predictions = my_model.predict(xtest, batch_size = 20)\n",
    "train_predictions = my_model.predict(xtrain, batch_size = 20)"
   ]
  },
  {
   "cell_type": "code",
   "execution_count": 48,
   "metadata": {},
   "outputs": [
    {
     "name": "stdout",
     "output_type": "stream",
     "text": [
      "100/100 [==============================] - 12s 124ms/step\n",
      "[0.8130654573440552, 0.5600000023841858]\n"
     ]
    }
   ],
   "source": [
    "fav_model = keras.models.load_model(\"../results/my_model.h5\")\n",
    "test_evaluation = fav_model.evaluate(xtest, ytest, batch_size = 20)\n",
    "train_evaluation = fav_model.evaluate(xtrain, ytrain, batch_size = 20)\n",
    "print(test_evaluation)\n",
    "print(train_evaluation)\n",
    "fav_predictions = fav_model.predict(xtest, batch_size = 20)"
   ]
  },
  {
   "cell_type": "code",
   "execution_count": 49,
   "metadata": {
    "collapsed": true,
    "jupyter": {
     "outputs_hidden": true
    }
   },
   "outputs": [
    {
     "data": {
      "image/png": "[encoded data removed]",
      "text/plain": [
       "<Figure size 432x288 with 1 Axes>"
      ]
     },
     "metadata": {
      "needs_background": "light"
     },
     "output_type": "display_data"
    }
   ],
   "source": [
    "#nucléotides train\n",
    "roc_curve(train_predictions, ytrain, 0)"
   ]
  },
  {
   "cell_type": "code",
   "execution_count": null,
   "metadata": {},
   "outputs": [],
   "source": [
    "#hème train\n",
    "roc_curve(train_predictions, ytrain, 1)"
   ]
  },
  {
   "cell_type": "code",
   "execution_count": null,
   "metadata": {},
   "outputs": [],
   "source": [
    "#nucléotide test\n",
    "roc_curve(test_predictions, ytest, 0)"
   ]
  },
  {
   "cell_type": "code",
   "execution_count": null,
   "metadata": {},
   "outputs": [],
   "source": [
    "#hèmes test\n",
    "roc_curve(test_predictions, ytest, 1)"
   ]
  },
  {
   "cell_type": "markdown",
   "metadata": {},
   "source": [
    "Train heme:"
   ]
  },
  {
   "cell_type": "code",
   "execution_count": null,
   "metadata": {},
   "outputs": [],
   "source": [
    "tp, fp, tn, fn, acc, ppv, tnr, tpr, fpr, mcc = metrics(train_predictions, ytrain[:1])\n",
    "print(\"TP:{:.2f}%\".format(tp))\n",
    "print(\"FP:{:.2f}%\".format(fp))\n",
    "print(\"TN:{:.2f}\".format(tn))\n",
    "print(\"FN:{:.2f}\".format(fn))\n",
    "print(\"ACC = {:.2f}%\".format(acc))\n",
    "print(\"PPV = {:.2f}%\".format(ppv))\n",
    "print(\"TNR = {:.2f}%\".format(tnr))\n",
    "print(\"TPR = {:.2f}%\".format(tpr))\n",
    "print(\"FPR = {:.2f}%\".format(fpr))\n",
    "print(\"MCC = {:.2f}\".format(mcc))"
   ]
  },
  {
   "cell_type": "markdown",
   "metadata": {},
   "source": [
    "Train nucleotides:"
   ]
  },
  {
   "cell_type": "code",
   "execution_count": null,
   "metadata": {},
   "outputs": [],
   "source": [
    "tp, fp, tn, fn, acc, ppv, tnr, tpr, fpr, mcc = metrics(train_predictions, ytrain[:0])\n",
    "print(\"TP:{:.2f}%\".format(tp))\n",
    "print(\"FP:{:.2f}%\".format(fp))\n",
    "print(\"TN:{:.2f}\".format(tn))\n",
    "print(\"FN:{:.2f}\".format(fn))\n",
    "print(\"ACC = {:.2f}%\".format(acc))\n",
    "print(\"PPV = {:.2f}%\".format(ppv))\n",
    "print(\"TNR = {:.2f}%\".format(tnr))\n",
    "print(\"TPR = {:.2f}%\".format(tpr))\n",
    "print(\"FPR = {:.2f}%\".format(fpr))\n",
    "print(\"MCC = {:.2f}\".format(mcc))"
   ]
  },
  {
   "cell_type": "markdown",
   "metadata": {},
   "source": [
    "Test heme:"
   ]
  },
  {
   "cell_type": "code",
   "execution_count": null,
   "metadata": {},
   "outputs": [],
   "source": [
    "tp, fp, tn, fn, acc, ppv, tnr, tpr, fpr, mcc = metrics(test_predictions, ytest[:1])\n",
    "print(\"TP:{:.2f}%\".format(tp))\n",
    "print(\"FP:{:.2f}%\".format(fp))\n",
    "print(\"TN:{:.2f}\".format(tn))\n",
    "print(\"FN:{:.2f}\".format(fn))\n",
    "print(\"ACC = {:.2f}%\".format(acc))\n",
    "print(\"PPV = {:.2f}%\".format(ppv))\n",
    "print(\"TNR = {:.2f}%\".format(tnr))\n",
    "print(\"TPR = {:.2f}%\".format(tpr))\n",
    "print(\"FPR = {:.2f}%\".format(fpr))\n",
    "print(\"MCC = {:.2f}\".format(mcc))"
   ]
  },
  {
   "cell_type": "markdown",
   "metadata": {},
   "source": [
    "Test nucléotides:"
   ]
  },
  {
   "cell_type": "code",
   "execution_count": null,
   "metadata": {},
   "outputs": [],
   "source": [
    "tp, fp, tn, fn, acc, ppv, tnr, tpr, fpr, mcc = metrics(test_predictions, ytest[:0])\n",
    "print(\"TP:{:.2f}%\".format(tp))\n",
    "print(\"FP:{:.2f}%\".format(fp))\n",
    "print(\"TN:{:.2f}\".format(tn))\n",
    "print(\"FN:{:.2f}\".format(fn))\n",
    "print(\"ACC = {:.2f}%\".format(acc))\n",
    "print(\"PPV = {:.2f}%\".format(ppv))\n",
    "print(\"TNR = {:.2f}%\".format(tnr))\n",
    "print(\"TPR = {:.2f}%\".format(tpr))\n",
    "print(\"FPR = {:.2f}%\".format(fpr))\n",
    "print(\"MCC = {:.2f}\".format(mcc))"
   ]
  }
 ],
 "metadata": {
  "kernelspec": {
   "display_name": "Python 3",
   "language": "python",
   "name": "python3"
  },
  "language_info": {
   "codemirror_mode": {
    "name": "ipython",
    "version": 3
   },
   "file_extension": ".py",
   "mimetype": "text/x-python",
   "name": "python",
   "nbconvert_exporter": "python",
   "pygments_lexer": "ipython3",
   "version": "3.7.4"
  }
 },
 "nbformat": 4,
 "nbformat_minor": 4
}
